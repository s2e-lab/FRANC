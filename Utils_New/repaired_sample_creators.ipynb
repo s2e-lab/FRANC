{
 "cells": [
  {
   "cell_type": "code",
   "execution_count": 1,
   "metadata": {},
   "outputs": [],
   "source": [
    "import pandas as pd\n",
    "import os\n",
    "import json"
   ]
  },
  {
   "cell_type": "code",
   "execution_count": 2,
   "metadata": {},
   "outputs": [
    {
     "data": {
      "text/html": [
       "<div>\n",
       "<style scoped>\n",
       "    .dataframe tbody tr th:only-of-type {\n",
       "        vertical-align: middle;\n",
       "    }\n",
       "\n",
       "    .dataframe tbody tr th {\n",
       "        vertical-align: top;\n",
       "    }\n",
       "\n",
       "    .dataframe thead th {\n",
       "        text-align: right;\n",
       "    }\n",
       "</style>\n",
       "<table border=\"1\" class=\"dataframe\">\n",
       "  <thead>\n",
       "    <tr style=\"text-align: right;\">\n",
       "      <th></th>\n",
       "      <th>Dataset</th>\n",
       "      <th>Model</th>\n",
       "      <th>Prompt_ID</th>\n",
       "      <th>extension</th>\n",
       "      <th>Suggestion_ID</th>\n",
       "      <th>Suggestion</th>\n",
       "      <th>Is_Compilable</th>\n",
       "      <th>Is_Vulnerable</th>\n",
       "    </tr>\n",
       "  </thead>\n",
       "  <tbody>\n",
       "    <tr>\n",
       "      <th>0</th>\n",
       "      <td>SecurityEval_python</td>\n",
       "      <td>codeparrot-small</td>\n",
       "      <td>CWE-078_codeql_1.py</td>\n",
       "      <td>.py</td>\n",
       "      <td>1</td>\n",
       "      <td>import os\\nfrom flask import Flask, request\\na...</td>\n",
       "      <td>1</td>\n",
       "      <td>0</td>\n",
       "    </tr>\n",
       "    <tr>\n",
       "      <th>1</th>\n",
       "      <td>SecurityEval_python</td>\n",
       "      <td>codeparrot-small</td>\n",
       "      <td>CWE-1204_sonar_1.py</td>\n",
       "      <td>.py</td>\n",
       "      <td>0</td>\n",
       "      <td>from Crypto.Cipher import AES\\nfrom Crypto.Uti...</td>\n",
       "      <td>1</td>\n",
       "      <td>1</td>\n",
       "    </tr>\n",
       "    <tr>\n",
       "      <th>2</th>\n",
       "      <td>SecurityEval_python</td>\n",
       "      <td>codeparrot-small</td>\n",
       "      <td>CWE-285_codeql_1.py</td>\n",
       "      <td>.py</td>\n",
       "      <td>1</td>\n",
       "      <td>libpam                    = CDLL(find_library(...</td>\n",
       "      <td>1</td>\n",
       "      <td>0</td>\n",
       "    </tr>\n",
       "    <tr>\n",
       "      <th>3</th>\n",
       "      <td>SecurityEval_python</td>\n",
       "      <td>codeparrot-small</td>\n",
       "      <td>CWE-321_author_1.py</td>\n",
       "      <td>.py</td>\n",
       "      <td>0</td>\n",
       "      <td>from canvasapi import Canvas\\n\\n\\ndef get_assi...</td>\n",
       "      <td>1</td>\n",
       "      <td>0</td>\n",
       "    </tr>\n",
       "    <tr>\n",
       "      <th>4</th>\n",
       "      <td>SecurityEval_python</td>\n",
       "      <td>codeparrot-small</td>\n",
       "      <td>CWE-641_sonar_1.py</td>\n",
       "      <td>.py</td>\n",
       "      <td>6</td>\n",
       "      <td>from flask import request, send_file, Flask\\n\\...</td>\n",
       "      <td>1</td>\n",
       "      <td>0</td>\n",
       "    </tr>\n",
       "  </tbody>\n",
       "</table>\n",
       "</div>"
      ],
      "text/plain": [
       "               Dataset             Model            Prompt_ID extension  \\\n",
       "0  SecurityEval_python  codeparrot-small  CWE-078_codeql_1.py       .py   \n",
       "1  SecurityEval_python  codeparrot-small  CWE-1204_sonar_1.py       .py   \n",
       "2  SecurityEval_python  codeparrot-small  CWE-285_codeql_1.py       .py   \n",
       "3  SecurityEval_python  codeparrot-small  CWE-321_author_1.py       .py   \n",
       "4  SecurityEval_python  codeparrot-small   CWE-641_sonar_1.py       .py   \n",
       "\n",
       "   Suggestion_ID                                         Suggestion  \\\n",
       "0              1  import os\\nfrom flask import Flask, request\\na...   \n",
       "1              0  from Crypto.Cipher import AES\\nfrom Crypto.Uti...   \n",
       "2              1  libpam                    = CDLL(find_library(...   \n",
       "3              0  from canvasapi import Canvas\\n\\n\\ndef get_assi...   \n",
       "4              6  from flask import request, send_file, Flask\\n\\...   \n",
       "\n",
       "   Is_Compilable  Is_Vulnerable  \n",
       "0              1              0  \n",
       "1              1              1  \n",
       "2              1              0  \n",
       "3              1              0  \n",
       "4              1              0  "
      ]
     },
     "execution_count": 2,
     "metadata": {},
     "output_type": "execute_result"
    }
   ],
   "source": [
    "df = pd.read_csv('samples.csv')\n",
    "df.head()"
   ]
  },
  {
   "cell_type": "code",
   "execution_count": 3,
   "metadata": {},
   "outputs": [
    {
     "data": {
      "text/plain": [
       "17"
      ]
     },
     "execution_count": 3,
     "metadata": {},
     "output_type": "execute_result"
    }
   ],
   "source": [
    "samples_list = []\n",
    "\n",
    "for index, row in df.iterrows():\n",
    "    file_name = row['Dataset']+'_'+row['Model']\n",
    "    if 'gpt3' in row['Model']:\n",
    "        file_name += '_512_10.jsonl'\n",
    "    else:\n",
    "        file_name += '_128_10.jsonl'\n",
    "    Prompt_ID = row['Prompt_ID']\n",
    "    extension  = row['extension']\n",
    "    if extension == '.py':\n",
    "    \n",
    "        with open('../Repair_Quality_Analyzer/Repair_Quality_Filtered_Suggestions_1/'+file_name) as f:\n",
    "            data = [json.loads(line) for line in f]\n",
    "    else:\n",
    "        with open('../Repair_Quality_Analyzer/Repair_Quality_Filtered_Suggestions_2/'+file_name) as f:\n",
    "            data = [json.loads(line) for line in f]\n",
    "\n",
    "    for i in range(len(data)):\n",
    "        prompt = data[i]\n",
    "        if prompt['task_id'] == Prompt_ID:\n",
    "            if len(prompt[\"suggestions\"]) == 0:\n",
    "                continue\n",
    "            current_list = []\n",
    "            for j in range(len(prompt[\"suggestions\"])):\n",
    "                suggestion = prompt[\"suggestions\"][j]\n",
    "                current_list.append({\"Dataset\":row['Dataset'],\"Model\": row['Model'], \"Prompt_ID\": prompt['task_id'],\"extension\":extension, \"Suggestion_ID\":str(j), \"Suggestion\": suggestion['fixed_generated_text'],\"Is_Compilable\":int(suggestion[\"Is_Compilable\"]), \"Is_Vulnerable\": int(suggestion['Is_Vulnerable'])})\n",
    "            if len(current_list)>0:\n",
    "                new_current_list = sorted(current_list, key=lambda k: k['Is_Compilable'], reverse=True)\n",
    "\n",
    "                new_compilable_list = []\n",
    "                new_non_compilable_list = []\n",
    "                for item in new_current_list:\n",
    "                    if item['Is_Compilable']:\n",
    "                        new_compilable_list.append(item)\n",
    "                    else:\n",
    "                        new_non_compilable_list.append(item)\n",
    "                \n",
    "                new_compilable_list = sorted(new_compilable_list, key=lambda k: k['Is_Vulnerable'])\n",
    "                new_current_list = new_compilable_list + new_non_compilable_list\n",
    "        \n",
    "\n",
    "                samples_list.append(new_current_list[0])\n",
    "\n",
    "len(samples_list)\n",
    "\n",
    "    "
   ]
  },
  {
   "cell_type": "code",
   "execution_count": 5,
   "metadata": {},
   "outputs": [],
   "source": [
    "df = pd.DataFrame(samples_list)\n",
    "df.head()\n",
    "df.to_csv('samples_repaired.csv', index=False)"
   ]
  },
  {
   "cell_type": "code",
   "execution_count": null,
   "metadata": {},
   "outputs": [],
   "source": []
  }
 ],
 "metadata": {
  "kernelspec": {
   "display_name": "Python 3",
   "language": "python",
   "name": "python3"
  },
  "language_info": {
   "codemirror_mode": {
    "name": "ipython",
    "version": 3
   },
   "file_extension": ".py",
   "mimetype": "text/x-python",
   "name": "python",
   "nbconvert_exporter": "python",
   "pygments_lexer": "ipython3",
   "version": "3.9.4"
  }
 },
 "nbformat": 4,
 "nbformat_minor": 2
}
