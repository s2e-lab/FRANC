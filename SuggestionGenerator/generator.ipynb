{
 "cells": [
  {
   "cell_type": "code",
   "execution_count": null,
   "metadata": {},
   "outputs": [],
   "source": [
    "import json\n",
    "from transformers import pipeline\n",
    "from tqdm.auto import tqdm"
   ]
  },
  {
   "cell_type": "code",
   "execution_count": null,
   "metadata": {},
   "outputs": [],
   "source": [
    "def get_prompts(filename):\n",
    "    with open(filename) as f:\n",
    "        prompts = []\n",
    "        for line in f:\n",
    "            prompts.append(json.loads(line))\n",
    "    return prompts"
   ]
  },
  {
   "cell_type": "code",
   "execution_count": null,
   "metadata": {},
   "outputs": [],
   "source": [
    "def get_generator(model_name):\n",
    "    generator = pipeline(\"text-generation\", model=model_name, device_map=\"auto\")\n",
    "    return generator"
   ]
  },
  {
   "cell_type": "code",
   "execution_count": null,
   "metadata": {},
   "outputs": [],
   "source": [
    "def generate_suggestions(\n",
    "    generator, prompts, key=\"prompt\", max_new_length=128, num_suggestions=10\n",
    "):\n",
    "    suggestions = []\n",
    "    for prompt in tqdm(prompts):\n",
    "        updated_prompt = prompt.copy()\n",
    "        try:\n",
    "            suggestion = generator(\n",
    "                prompt[key],\n",
    "                max_new_tokens=max_new_length,\n",
    "                num_return_sequences=num_suggestions,\n",
    "                pad_token_id=generator.tokenizer.eos_token_id,\n",
    "                do_sample=True\n",
    "            )\n",
    "        except Exception as e:\n",
    "            print(\"Error with prompt: \", prompt[\"task_id\"], str(e))\n",
    "            suggestion = []\n",
    "            updated_prompt[\"error\"] = str(e)\n",
    "        updated_prompt[\"suggestions\"] = suggestion\n",
    "        suggestions.append(updated_prompt)\n",
    "    return suggestions"
   ]
  },
  {
   "cell_type": "code",
   "execution_count": null,
   "metadata": {},
   "outputs": [],
   "source": [
    "def write_suggestions(suggestions, filename):\n",
    "    with open(filename, \"w\") as f:\n",
    "        for suggestion in suggestions:\n",
    "            f.write(json.dumps(suggestion) + \"\\n\")"
   ]
  },
  {
   "cell_type": "code",
   "execution_count": null,
   "metadata": {},
   "outputs": [],
   "source": [
    "benchmark_root = \"../Benchmarks/\"\n",
    "benchmark_file = \"HumanEval_java.jsonl\"\n",
    "benchmark_path = benchmark_root + benchmark_file\n"
   ]
  },
  {
   "cell_type": "code",
   "execution_count": null,
   "metadata": {},
   "outputs": [],
   "source": [
    "model_name = \"NinedayWang/PolyCoder-160M\"\n",
    "max_new_length = 128\n",
    "num_suggestions = 10"
   ]
  },
  {
   "cell_type": "code",
   "execution_count": null,
   "metadata": {},
   "outputs": [],
   "source": [
    "suggestion_root = \"./Suggestions/\"\n",
    "suggestion_file = benchmark_file.split(\".\")[0] + \"_\" + model_name.split(\"/\")[-1] +\"_\"+str(max_new_length)+\"_\"+str(num_suggestions)+ \".jsonl\"\n",
    "suggestion_path = suggestion_root + suggestion_file"
   ]
  },
  {
   "cell_type": "code",
   "execution_count": null,
   "metadata": {},
   "outputs": [],
   "source": [
    "prompts = get_prompts(benchmark_path)\n",
    "print(prompts[0])"
   ]
  },
  {
   "cell_type": "code",
   "execution_count": null,
   "metadata": {},
   "outputs": [],
   "source": [
    "generator = get_generator(model_name)"
   ]
  },
  {
   "cell_type": "code",
   "execution_count": null,
   "metadata": {},
   "outputs": [],
   "source": [
    "suggestions = generate_suggestions(generator, prompts, key = \"prompt\", max_new_length=max_new_length, num_suggestions=num_suggestions)"
   ]
  },
  {
   "cell_type": "code",
   "execution_count": null,
   "metadata": {},
   "outputs": [],
   "source": [
    "write_suggestions(suggestions, suggestion_path)"
   ]
  },
  {
   "cell_type": "code",
   "execution_count": null,
   "metadata": {},
   "outputs": [],
   "source": [
    "py_model_list_small = [\n",
    "    \"Salesforce/codegen-350M-mono\",\n",
    "    \"codeparrot/codeparrot-small\",\n",
    "    \"codeparrot/codeparrot\",\n",
    "    \"Salesforce/codegen-2B-mono\",\n",
    "]\n",
    "py_model_list_big = [\"Salesforce/codegen-6B-mono\"]\n",
    "\n",
    "multi_model_list_small = [\n",
    "    \"NinedayWang/PolyCoder-160M\",\n",
    "    \"NinedayWang/PolyCoder-0.4B\",\n",
    "    \"Salesforce/codegen-350M-multi\",\n",
    "    \"codeparrot/codeparrot-small-multi\",\n",
    "    \"facebook/incoder-1B\",\n",
    "    \"Salesforce/codegen-2B-multi\",\n",
    "    \"NinedayWang/PolyCoder-2.7B\",\n",
    "]\n",
    "multi_model_list_big = [\"facebook/incoder-6B\", \"Salesforce/codegen-6B-multi\"]"
   ]
  }
 ],
 "metadata": {
  "kernelspec": {
   "display_name": "Python 3",
   "language": "python",
   "name": "python3"
  },
  "language_info": {
   "codemirror_mode": {
    "name": "ipython",
    "version": 3
   },
   "file_extension": ".py",
   "mimetype": "text/x-python",
   "name": "python",
   "nbconvert_exporter": "python",
   "pygments_lexer": "ipython3",
   "version": "3.9.4"
  },
  "orig_nbformat": 4
 },
 "nbformat": 4,
 "nbformat_minor": 2
}
