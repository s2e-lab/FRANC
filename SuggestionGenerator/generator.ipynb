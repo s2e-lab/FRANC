{
 "cells": [
  {
   "cell_type": "code",
   "execution_count": 59,
   "metadata": {},
   "outputs": [],
   "source": [
    "import json\n",
    "from transformers import pipeline\n",
    "from tqdm.auto import tqdm"
   ]
  },
  {
   "cell_type": "code",
   "execution_count": 60,
   "metadata": {},
   "outputs": [],
   "source": [
    "def get_prompts(filename):\n",
    "    with open(filename) as f:\n",
    "        prompts = []\n",
    "        for line in f:\n",
    "            prompts.append(json.loads(line))\n",
    "    return prompts"
   ]
  },
  {
   "cell_type": "code",
   "execution_count": 61,
   "metadata": {},
   "outputs": [],
   "source": [
    "def get_generator(model_name):\n",
    "    generator = pipeline(\"text-generation\", model=model_name, device_map=\"auto\")\n",
    "    return generator"
   ]
  },
  {
   "cell_type": "code",
   "execution_count": 62,
   "metadata": {},
   "outputs": [],
   "source": [
    "def generate_suggestions(generator, prompts, key = \"prompt\", max_new_length = 128, num_suggestions=10):\n",
    "    suggestions = []\n",
    "    for prompt in tqdm(prompts):\n",
    "        updated_prompt = prompt.copy()\n",
    "        suggestion = generator(prompt[key], max_new_tokens=max_new_length, num_return_sequences=num_suggestions)\n",
    "        updated_prompt[\"suggestions\"] = suggestion\n",
    "        suggestions.append(updated_prompt)\n",
    "    return suggestions"
   ]
  },
  {
   "cell_type": "code",
   "execution_count": 63,
   "metadata": {},
   "outputs": [],
   "source": [
    "def write_suggestions(suggestions, filename):\n",
    "    with open(filename, \"w\") as f:\n",
    "        for suggestion in suggestions:\n",
    "            f.write(json.dumps(suggestion) + \"\\n\")"
   ]
  },
  {
   "cell_type": "code",
   "execution_count": 64,
   "metadata": {},
   "outputs": [],
   "source": [
    "benchmark_root = \"../Benchmarks/\"\n",
    "benchmark_file = \"HumanEval_python.jsonl\"\n",
    "benchmark_path = benchmark_root + benchmark_file\n"
   ]
  },
  {
   "cell_type": "code",
   "execution_count": 65,
   "metadata": {},
   "outputs": [],
   "source": [
    "model_name = \"Salesforce/codegen-350M-mono\"\n",
    "max_new_length = 128\n",
    "num_suggestions = 10"
   ]
  },
  {
   "cell_type": "code",
   "execution_count": 75,
   "metadata": {},
   "outputs": [],
   "source": [
    "suggestion_root = \"./Suggestions/\"\n",
    "suggestion_file = benchmark_file.split(\".\")[0] + \"_\" + model_name.split(\"/\")[-1] +\"_\"+str(max_new_length)+\"_\"+str(num_suggestions)+ \".jsonl\"\n",
    "suggestion_path = suggestion_root + suggestion_file"
   ]
  },
  {
   "cell_type": "code",
   "execution_count": 67,
   "metadata": {},
   "outputs": [
    {
     "name": "stdout",
     "output_type": "stream",
     "text": [
      "{'task_id': 'HumanEval/0', 'prompt': 'from typing import List\\n\\n\\ndef has_close_elements(numbers: List[float], threshold: float) -> bool:\\n    \"\"\" Check if in given list of numbers, are any two numbers closer to each other than\\n    given threshold.\\n    >>> has_close_elements([1.0, 2.0, 3.0], 0.5)\\n    False\\n    >>> has_close_elements([1.0, 2.8, 3.0, 4.0, 5.0, 2.0], 0.3)\\n    True\\n    \"\"\"\\n', 'entry_point': 'has_close_elements', 'canonical_solution': '    for idx, elem in enumerate(numbers):\\n        for idx2, elem2 in enumerate(numbers):\\n            if idx != idx2:\\n                distance = abs(elem - elem2)\\n                if distance < threshold:\\n                    return True\\n\\n    return False\\n', 'test': \"\\n\\nMETADATA = {\\n    'author': 'jt',\\n    'dataset': 'test'\\n}\\n\\n\\ndef check(candidate):\\n    assert candidate([1.0, 2.0, 3.9, 4.0, 5.0, 2.2], 0.3) == True\\n    assert candidate([1.0, 2.0, 3.9, 4.0, 5.0, 2.2], 0.05) == False\\n    assert candidate([1.0, 2.0, 5.9, 4.0, 5.0], 0.95) == True\\n    assert candidate([1.0, 2.0, 5.9, 4.0, 5.0], 0.8) == False\\n    assert candidate([1.0, 2.0, 3.0, 4.0, 5.0, 2.0], 0.1) == True\\n    assert candidate([1.1, 2.2, 3.1, 4.1, 5.1], 1.0) == True\\n    assert candidate([1.1, 2.2, 3.1, 4.1, 5.1], 0.5) == False\\n\\n\"}\n"
     ]
    }
   ],
   "source": [
    "prompts = get_prompts(benchmark_path)\n",
    "print(prompts[0])"
   ]
  },
  {
   "cell_type": "code",
   "execution_count": 68,
   "metadata": {},
   "outputs": [],
   "source": [
    "generator = get_generator(model_name)"
   ]
  },
  {
   "cell_type": "code",
   "execution_count": 69,
   "metadata": {},
   "outputs": [
    {
     "name": "stderr",
     "output_type": "stream",
     "text": [
      "  0%|          | 0/164 [00:00<?, ?it/s]Setting `pad_token_id` to `eos_token_id`:50256 for open-end generation.\n",
      "  1%|          | 1/164 [00:23<1:05:02, 23.94s/it]Setting `pad_token_id` to `eos_token_id`:50256 for open-end generation.\n",
      "  1%|          | 2/164 [00:47<1:04:33, 23.91s/it]Setting `pad_token_id` to `eos_token_id`:50256 for open-end generation.\n",
      "  2%|▏         | 3/164 [01:14<1:07:20, 25.10s/it]Setting `pad_token_id` to `eos_token_id`:50256 for open-end generation.\n",
      "  2%|▏         | 4/164 [01:42<1:10:34, 26.46s/it]Setting `pad_token_id` to `eos_token_id`:50256 for open-end generation.\n",
      "  3%|▎         | 5/164 [02:07<1:08:10, 25.73s/it]Setting `pad_token_id` to `eos_token_id`:50256 for open-end generation.\n",
      "  4%|▎         | 6/164 [02:28<1:03:45, 24.21s/it]Setting `pad_token_id` to `eos_token_id`:50256 for open-end generation.\n",
      "  4%|▍         | 7/164 [02:51<1:02:00, 23.70s/it]Setting `pad_token_id` to `eos_token_id`:50256 for open-end generation.\n",
      "  5%|▍         | 8/164 [03:13<1:00:17, 23.19s/it]Setting `pad_token_id` to `eos_token_id`:50256 for open-end generation.\n",
      "  5%|▌         | 9/164 [03:40<1:03:20, 24.52s/it]Setting `pad_token_id` to `eos_token_id`:50256 for open-end generation.\n",
      "  6%|▌         | 10/164 [04:04<1:02:36, 24.39s/it]Setting `pad_token_id` to `eos_token_id`:50256 for open-end generation.\n",
      "  7%|▋         | 11/164 [04:33<1:05:42, 25.77s/it]Setting `pad_token_id` to `eos_token_id`:50256 for open-end generation.\n",
      "  7%|▋         | 12/164 [04:54<1:01:22, 24.22s/it]Setting `pad_token_id` to `eos_token_id`:50256 for open-end generation.\n",
      "  8%|▊         | 13/164 [05:17<1:00:07, 23.89s/it]Setting `pad_token_id` to `eos_token_id`:50256 for open-end generation.\n",
      "  9%|▊         | 14/164 [05:41<59:30, 23.80s/it]  Setting `pad_token_id` to `eos_token_id`:50256 for open-end generation.\n",
      "  9%|▉         | 15/164 [06:05<59:20, 23.90s/it]Setting `pad_token_id` to `eos_token_id`:50256 for open-end generation.\n",
      " 10%|▉         | 16/164 [06:31<1:00:29, 24.53s/it]Setting `pad_token_id` to `eos_token_id`:50256 for open-end generation.\n",
      " 10%|█         | 17/164 [06:51<56:47, 23.18s/it]  Setting `pad_token_id` to `eos_token_id`:50256 for open-end generation.\n",
      " 11%|█         | 18/164 [07:18<59:28, 24.44s/it]Setting `pad_token_id` to `eos_token_id`:50256 for open-end generation.\n",
      " 12%|█▏        | 19/164 [07:40<57:13, 23.68s/it]Setting `pad_token_id` to `eos_token_id`:50256 for open-end generation.\n",
      " 12%|█▏        | 20/164 [08:03<56:02, 23.35s/it]Setting `pad_token_id` to `eos_token_id`:50256 for open-end generation.\n",
      " 13%|█▎        | 21/164 [08:32<59:41, 25.05s/it]Setting `pad_token_id` to `eos_token_id`:50256 for open-end generation.\n",
      " 13%|█▎        | 22/164 [08:58<1:00:00, 25.36s/it]Setting `pad_token_id` to `eos_token_id`:50256 for open-end generation.\n",
      " 14%|█▍        | 23/164 [09:19<56:27, 24.03s/it]  Setting `pad_token_id` to `eos_token_id`:50256 for open-end generation.\n",
      " 15%|█▍        | 24/164 [09:37<52:15, 22.39s/it]Setting `pad_token_id` to `eos_token_id`:50256 for open-end generation.\n",
      " 15%|█▌        | 25/164 [09:56<49:21, 21.31s/it]Setting `pad_token_id` to `eos_token_id`:50256 for open-end generation.\n",
      " 16%|█▌        | 26/164 [10:19<50:23, 21.91s/it]Setting `pad_token_id` to `eos_token_id`:50256 for open-end generation.\n",
      " 16%|█▋        | 27/164 [10:41<49:35, 21.72s/it]Setting `pad_token_id` to `eos_token_id`:50256 for open-end generation.\n",
      " 17%|█▋        | 28/164 [11:00<47:51, 21.11s/it]Setting `pad_token_id` to `eos_token_id`:50256 for open-end generation.\n",
      " 18%|█▊        | 29/164 [11:21<47:16, 21.01s/it]Setting `pad_token_id` to `eos_token_id`:50256 for open-end generation.\n",
      " 18%|█▊        | 30/164 [11:46<49:48, 22.30s/it]Setting `pad_token_id` to `eos_token_id`:50256 for open-end generation.\n",
      " 19%|█▉        | 31/164 [12:09<49:24, 22.29s/it]Setting `pad_token_id` to `eos_token_id`:50256 for open-end generation.\n",
      " 20%|█▉        | 32/164 [12:33<50:16, 22.86s/it]Setting `pad_token_id` to `eos_token_id`:50256 for open-end generation.\n",
      " 20%|██        | 33/164 [13:26<1:09:38, 31.89s/it]Setting `pad_token_id` to `eos_token_id`:50256 for open-end generation.\n",
      " 21%|██        | 34/164 [13:51<1:04:25, 29.73s/it]Setting `pad_token_id` to `eos_token_id`:50256 for open-end generation.\n",
      " 21%|██▏       | 35/164 [14:14<1:00:05, 27.95s/it]Setting `pad_token_id` to `eos_token_id`:50256 for open-end generation.\n",
      " 22%|██▏       | 36/164 [14:41<58:32, 27.44s/it]  Setting `pad_token_id` to `eos_token_id`:50256 for open-end generation.\n",
      " 23%|██▎       | 37/164 [15:13<1:01:24, 29.01s/it]Setting `pad_token_id` to `eos_token_id`:50256 for open-end generation.\n",
      " 23%|██▎       | 38/164 [15:44<1:02:17, 29.66s/it]Setting `pad_token_id` to `eos_token_id`:50256 for open-end generation.\n",
      " 24%|██▍       | 39/164 [16:24<1:07:45, 32.52s/it]Setting `pad_token_id` to `eos_token_id`:50256 for open-end generation.\n",
      " 24%|██▍       | 40/164 [16:48<1:01:55, 29.96s/it]Setting `pad_token_id` to `eos_token_id`:50256 for open-end generation.\n",
      " 25%|██▌       | 41/164 [17:19<1:01:59, 30.24s/it]Setting `pad_token_id` to `eos_token_id`:50256 for open-end generation.\n",
      " 26%|██▌       | 42/164 [17:47<1:00:26, 29.73s/it]Setting `pad_token_id` to `eos_token_id`:50256 for open-end generation.\n",
      " 26%|██▌       | 43/164 [18:10<55:53, 27.72s/it]  Setting `pad_token_id` to `eos_token_id`:50256 for open-end generation.\n",
      " 27%|██▋       | 44/164 [18:39<56:00, 28.01s/it]Setting `pad_token_id` to `eos_token_id`:50256 for open-end generation.\n",
      " 27%|██▋       | 45/164 [19:10<57:11, 28.84s/it]Setting `pad_token_id` to `eos_token_id`:50256 for open-end generation.\n",
      " 28%|██▊       | 46/164 [19:33<53:24, 27.15s/it]Setting `pad_token_id` to `eos_token_id`:50256 for open-end generation.\n",
      " 29%|██▊       | 47/164 [20:13<1:00:49, 31.19s/it]Setting `pad_token_id` to `eos_token_id`:50256 for open-end generation.\n",
      " 29%|██▉       | 48/164 [20:34<53:55, 27.89s/it]  Setting `pad_token_id` to `eos_token_id`:50256 for open-end generation.\n",
      " 30%|██▉       | 49/164 [21:00<52:47, 27.55s/it]Setting `pad_token_id` to `eos_token_id`:50256 for open-end generation.\n",
      " 30%|███       | 50/164 [21:22<49:13, 25.91s/it]Setting `pad_token_id` to `eos_token_id`:50256 for open-end generation.\n",
      " 31%|███       | 51/164 [21:49<49:12, 26.13s/it]Setting `pad_token_id` to `eos_token_id`:50256 for open-end generation.\n",
      " 32%|███▏      | 52/164 [22:16<49:22, 26.45s/it]Setting `pad_token_id` to `eos_token_id`:50256 for open-end generation.\n",
      " 32%|███▏      | 53/164 [22:41<47:59, 25.94s/it]Setting `pad_token_id` to `eos_token_id`:50256 for open-end generation.\n",
      " 33%|███▎      | 54/164 [23:03<45:19, 24.73s/it]Setting `pad_token_id` to `eos_token_id`:50256 for open-end generation.\n",
      " 34%|███▎      | 55/164 [23:38<50:41, 27.91s/it]Setting `pad_token_id` to `eos_token_id`:50256 for open-end generation.\n",
      " 34%|███▍      | 56/164 [23:58<46:04, 25.60s/it]Setting `pad_token_id` to `eos_token_id`:50256 for open-end generation.\n",
      " 35%|███▍      | 57/164 [24:26<46:30, 26.08s/it]Setting `pad_token_id` to `eos_token_id`:50256 for open-end generation.\n",
      " 35%|███▌      | 58/164 [24:46<43:05, 24.39s/it]Setting `pad_token_id` to `eos_token_id`:50256 for open-end generation.\n",
      " 36%|███▌      | 59/164 [25:07<41:00, 23.43s/it]Setting `pad_token_id` to `eos_token_id`:50256 for open-end generation.\n",
      " 37%|███▋      | 60/164 [25:30<39:59, 23.08s/it]Setting `pad_token_id` to `eos_token_id`:50256 for open-end generation.\n",
      " 37%|███▋      | 61/164 [26:07<46:46, 27.25s/it]Setting `pad_token_id` to `eos_token_id`:50256 for open-end generation.\n",
      " 38%|███▊      | 62/164 [26:39<48:49, 28.72s/it]Setting `pad_token_id` to `eos_token_id`:50256 for open-end generation.\n",
      " 38%|███▊      | 63/164 [27:16<52:38, 31.27s/it]Setting `pad_token_id` to `eos_token_id`:50256 for open-end generation.\n",
      " 39%|███▉      | 64/164 [28:03<1:00:12, 36.13s/it]Setting `pad_token_id` to `eos_token_id`:50256 for open-end generation.\n",
      " 40%|███▉      | 65/164 [28:29<54:25, 32.98s/it]  Setting `pad_token_id` to `eos_token_id`:50256 for open-end generation.\n",
      " 40%|████      | 66/164 [28:59<52:33, 32.18s/it]Setting `pad_token_id` to `eos_token_id`:50256 for open-end generation.\n",
      " 41%|████      | 67/164 [29:23<47:53, 29.62s/it]Setting `pad_token_id` to `eos_token_id`:50256 for open-end generation.\n",
      " 41%|████▏     | 68/164 [29:54<47:57, 29.98s/it]Setting `pad_token_id` to `eos_token_id`:50256 for open-end generation.\n",
      " 42%|████▏     | 69/164 [30:33<51:45, 32.69s/it]Setting `pad_token_id` to `eos_token_id`:50256 for open-end generation.\n",
      " 43%|████▎     | 70/164 [30:58<47:50, 30.54s/it]Setting `pad_token_id` to `eos_token_id`:50256 for open-end generation.\n",
      " 43%|████▎     | 71/164 [31:23<44:30, 28.72s/it]Setting `pad_token_id` to `eos_token_id`:50256 for open-end generation.\n",
      " 44%|████▍     | 72/164 [31:46<41:18, 26.94s/it]Setting `pad_token_id` to `eos_token_id`:50256 for open-end generation.\n",
      " 45%|████▍     | 73/164 [32:19<43:41, 28.80s/it]Setting `pad_token_id` to `eos_token_id`:50256 for open-end generation.\n",
      " 45%|████▌     | 74/164 [32:44<41:45, 27.84s/it]Setting `pad_token_id` to `eos_token_id`:50256 for open-end generation.\n",
      " 46%|████▌     | 75/164 [33:17<43:15, 29.17s/it]Setting `pad_token_id` to `eos_token_id`:50256 for open-end generation.\n",
      " 46%|████▋     | 76/164 [33:37<38:47, 26.44s/it]Setting `pad_token_id` to `eos_token_id`:50256 for open-end generation.\n",
      " 47%|████▋     | 77/164 [34:04<38:47, 26.76s/it]Setting `pad_token_id` to `eos_token_id`:50256 for open-end generation.\n",
      " 48%|████▊     | 78/164 [34:27<36:36, 25.54s/it]Setting `pad_token_id` to `eos_token_id`:50256 for open-end generation.\n",
      " 48%|████▊     | 79/164 [35:02<40:03, 28.28s/it]Setting `pad_token_id` to `eos_token_id`:50256 for open-end generation.\n",
      " 49%|████▉     | 80/164 [35:26<37:58, 27.12s/it]Setting `pad_token_id` to `eos_token_id`:50256 for open-end generation.\n",
      " 49%|████▉     | 81/164 [35:48<35:35, 25.73s/it]Setting `pad_token_id` to `eos_token_id`:50256 for open-end generation.\n",
      " 50%|█████     | 82/164 [36:21<37:56, 27.77s/it]Setting `pad_token_id` to `eos_token_id`:50256 for open-end generation.\n",
      " 51%|█████     | 83/164 [36:41<34:22, 25.46s/it]Setting `pad_token_id` to `eos_token_id`:50256 for open-end generation.\n",
      " 51%|█████     | 84/164 [37:00<31:15, 23.44s/it]Setting `pad_token_id` to `eos_token_id`:50256 for open-end generation.\n",
      " 52%|█████▏    | 85/164 [37:23<30:57, 23.51s/it]Setting `pad_token_id` to `eos_token_id`:50256 for open-end generation.\n",
      " 52%|█████▏    | 86/164 [37:42<28:43, 22.09s/it]Setting `pad_token_id` to `eos_token_id`:50256 for open-end generation.\n",
      " 53%|█████▎    | 87/164 [38:07<29:12, 22.76s/it]Setting `pad_token_id` to `eos_token_id`:50256 for open-end generation.\n",
      " 54%|█████▎    | 88/164 [38:41<33:13, 26.23s/it]Setting `pad_token_id` to `eos_token_id`:50256 for open-end generation.\n",
      " 54%|█████▍    | 89/164 [39:11<34:15, 27.40s/it]Setting `pad_token_id` to `eos_token_id`:50256 for open-end generation.\n",
      " 55%|█████▍    | 90/164 [39:34<32:00, 25.95s/it]Setting `pad_token_id` to `eos_token_id`:50256 for open-end generation.\n",
      " 55%|█████▌    | 91/164 [39:56<30:19, 24.92s/it]Setting `pad_token_id` to `eos_token_id`:50256 for open-end generation.\n",
      " 56%|█████▌    | 92/164 [40:18<28:55, 24.10s/it]Setting `pad_token_id` to `eos_token_id`:50256 for open-end generation.\n",
      " 57%|█████▋    | 93/164 [40:43<28:49, 24.37s/it]Setting `pad_token_id` to `eos_token_id`:50256 for open-end generation.\n",
      " 57%|█████▋    | 94/164 [41:06<27:48, 23.83s/it]Setting `pad_token_id` to `eos_token_id`:50256 for open-end generation.\n",
      " 58%|█████▊    | 95/164 [41:39<30:46, 26.76s/it]Setting `pad_token_id` to `eos_token_id`:50256 for open-end generation.\n",
      " 59%|█████▊    | 96/164 [42:08<30:47, 27.16s/it]Setting `pad_token_id` to `eos_token_id`:50256 for open-end generation.\n",
      " 59%|█████▉    | 97/164 [42:33<29:52, 26.75s/it]Setting `pad_token_id` to `eos_token_id`:50256 for open-end generation.\n",
      " 60%|█████▉    | 98/164 [42:56<28:01, 25.48s/it]Setting `pad_token_id` to `eos_token_id`:50256 for open-end generation.\n",
      " 60%|██████    | 99/164 [43:16<25:58, 23.97s/it]Setting `pad_token_id` to `eos_token_id`:50256 for open-end generation.\n",
      " 61%|██████    | 100/164 [43:43<26:27, 24.81s/it]Setting `pad_token_id` to `eos_token_id`:50256 for open-end generation.\n",
      " 62%|██████▏   | 101/164 [44:12<27:19, 26.03s/it]Setting `pad_token_id` to `eos_token_id`:50256 for open-end generation.\n",
      " 62%|██████▏   | 102/164 [44:35<25:59, 25.16s/it]Setting `pad_token_id` to `eos_token_id`:50256 for open-end generation.\n",
      " 63%|██████▎   | 103/164 [44:57<24:27, 24.06s/it]Setting `pad_token_id` to `eos_token_id`:50256 for open-end generation.\n",
      " 63%|██████▎   | 104/164 [45:25<25:25, 25.43s/it]Setting `pad_token_id` to `eos_token_id`:50256 for open-end generation.\n",
      " 64%|██████▍   | 105/164 [45:47<24:00, 24.41s/it]Setting `pad_token_id` to `eos_token_id`:50256 for open-end generation.\n",
      " 65%|██████▍   | 106/164 [46:22<26:43, 27.65s/it]Setting `pad_token_id` to `eos_token_id`:50256 for open-end generation.\n",
      " 65%|██████▌   | 107/164 [46:46<24:59, 26.31s/it]Setting `pad_token_id` to `eos_token_id`:50256 for open-end generation.\n",
      " 66%|██████▌   | 108/164 [47:14<25:11, 26.99s/it]Setting `pad_token_id` to `eos_token_id`:50256 for open-end generation.\n",
      " 66%|██████▋   | 109/164 [47:49<26:54, 29.36s/it]Setting `pad_token_id` to `eos_token_id`:50256 for open-end generation.\n",
      " 67%|██████▋   | 110/164 [48:25<28:15, 31.40s/it]Setting `pad_token_id` to `eos_token_id`:50256 for open-end generation.\n",
      " 68%|██████▊   | 111/164 [48:55<27:21, 30.97s/it]Setting `pad_token_id` to `eos_token_id`:50256 for open-end generation.\n",
      " 68%|██████▊   | 112/164 [49:24<26:22, 30.43s/it]Setting `pad_token_id` to `eos_token_id`:50256 for open-end generation.\n",
      " 69%|██████▉   | 113/164 [49:52<25:05, 29.53s/it]Setting `pad_token_id` to `eos_token_id`:50256 for open-end generation.\n",
      " 70%|██████▉   | 114/164 [50:19<24:02, 28.84s/it]Setting `pad_token_id` to `eos_token_id`:50256 for open-end generation.\n",
      " 70%|███████   | 115/164 [50:40<21:43, 26.60s/it]Setting `pad_token_id` to `eos_token_id`:50256 for open-end generation.\n",
      " 71%|███████   | 116/164 [51:56<32:55, 41.16s/it]Setting `pad_token_id` to `eos_token_id`:50256 for open-end generation.\n",
      " 71%|███████▏  | 117/164 [52:36<31:58, 40.82s/it]Setting `pad_token_id` to `eos_token_id`:50256 for open-end generation.\n",
      " 72%|███████▏  | 118/164 [53:26<33:31, 43.72s/it]Setting `pad_token_id` to `eos_token_id`:50256 for open-end generation.\n",
      " 73%|███████▎  | 119/164 [54:00<30:38, 40.85s/it]Setting `pad_token_id` to `eos_token_id`:50256 for open-end generation.\n",
      " 73%|███████▎  | 120/164 [54:43<30:16, 41.29s/it]Setting `pad_token_id` to `eos_token_id`:50256 for open-end generation.\n",
      " 74%|███████▍  | 121/164 [55:21<29:03, 40.55s/it]Setting `pad_token_id` to `eos_token_id`:50256 for open-end generation.\n",
      " 74%|███████▍  | 122/164 [55:44<24:42, 35.29s/it]Setting `pad_token_id` to `eos_token_id`:50256 for open-end generation.\n",
      " 75%|███████▌  | 123/164 [56:37<27:37, 40.43s/it]Setting `pad_token_id` to `eos_token_id`:50256 for open-end generation.\n",
      " 76%|███████▌  | 124/164 [57:45<32:31, 48.80s/it]Setting `pad_token_id` to `eos_token_id`:50256 for open-end generation.\n",
      " 76%|███████▌  | 125/164 [58:41<33:07, 50.96s/it]Setting `pad_token_id` to `eos_token_id`:50256 for open-end generation.\n",
      " 77%|███████▋  | 126/164 [59:14<28:51, 45.58s/it]Setting `pad_token_id` to `eos_token_id`:50256 for open-end generation.\n",
      " 77%|███████▋  | 127/164 [59:53<26:49, 43.51s/it]Setting `pad_token_id` to `eos_token_id`:50256 for open-end generation.\n",
      " 78%|███████▊  | 128/164 [1:00:29<24:43, 41.20s/it]Setting `pad_token_id` to `eos_token_id`:50256 for open-end generation.\n",
      " 79%|███████▊  | 129/164 [1:00:53<21:04, 36.12s/it]Setting `pad_token_id` to `eos_token_id`:50256 for open-end generation.\n",
      " 79%|███████▉  | 130/164 [1:02:13<27:55, 49.27s/it]Setting `pad_token_id` to `eos_token_id`:50256 for open-end generation.\n",
      " 80%|███████▉  | 131/164 [1:02:45<24:17, 44.16s/it]Setting `pad_token_id` to `eos_token_id`:50256 for open-end generation.\n",
      " 80%|████████  | 132/164 [1:03:04<19:35, 36.73s/it]Setting `pad_token_id` to `eos_token_id`:50256 for open-end generation.\n",
      " 81%|████████  | 133/164 [1:03:31<17:26, 33.76s/it]Setting `pad_token_id` to `eos_token_id`:50256 for open-end generation.\n",
      " 82%|████████▏ | 134/164 [1:03:59<15:58, 31.94s/it]Setting `pad_token_id` to `eos_token_id`:50256 for open-end generation.\n",
      " 82%|████████▏ | 135/164 [1:04:31<15:22, 31.83s/it]Setting `pad_token_id` to `eos_token_id`:50256 for open-end generation.\n",
      " 83%|████████▎ | 136/164 [1:04:53<13:29, 28.90s/it]Setting `pad_token_id` to `eos_token_id`:50256 for open-end generation.\n",
      " 84%|████████▎ | 137/164 [1:05:18<12:29, 27.76s/it]Setting `pad_token_id` to `eos_token_id`:50256 for open-end generation.\n",
      " 84%|████████▍ | 138/164 [1:05:48<12:18, 28.42s/it]Setting `pad_token_id` to `eos_token_id`:50256 for open-end generation.\n",
      " 85%|████████▍ | 139/164 [1:06:43<15:15, 36.63s/it]Setting `pad_token_id` to `eos_token_id`:50256 for open-end generation.\n",
      " 85%|████████▌ | 140/164 [1:07:28<15:35, 38.98s/it]Setting `pad_token_id` to `eos_token_id`:50256 for open-end generation.\n",
      " 86%|████████▌ | 141/164 [1:08:01<14:18, 37.31s/it]Setting `pad_token_id` to `eos_token_id`:50256 for open-end generation.\n",
      " 87%|████████▋ | 142/164 [1:08:35<13:16, 36.22s/it]Setting `pad_token_id` to `eos_token_id`:50256 for open-end generation.\n",
      " 87%|████████▋ | 143/164 [1:09:04<11:53, 33.97s/it]Setting `pad_token_id` to `eos_token_id`:50256 for open-end generation.\n",
      " 88%|████████▊ | 144/164 [1:09:34<10:54, 32.73s/it]Setting `pad_token_id` to `eos_token_id`:50256 for open-end generation.\n",
      " 88%|████████▊ | 145/164 [1:10:02<09:58, 31.52s/it]Setting `pad_token_id` to `eos_token_id`:50256 for open-end generation.\n",
      " 89%|████████▉ | 146/164 [1:10:26<08:46, 29.28s/it]Setting `pad_token_id` to `eos_token_id`:50256 for open-end generation.\n",
      " 90%|████████▉ | 147/164 [1:10:49<07:43, 27.24s/it]Setting `pad_token_id` to `eos_token_id`:50256 for open-end generation.\n",
      " 90%|█████████ | 148/164 [1:11:23<07:47, 29.22s/it]Setting `pad_token_id` to `eos_token_id`:50256 for open-end generation.\n",
      " 91%|█████████ | 149/164 [1:11:56<07:38, 30.59s/it]Setting `pad_token_id` to `eos_token_id`:50256 for open-end generation.\n",
      " 91%|█████████▏| 150/164 [1:12:28<07:11, 30.80s/it]Setting `pad_token_id` to `eos_token_id`:50256 for open-end generation.\n",
      " 92%|█████████▏| 151/164 [1:12:48<06:00, 27.76s/it]Setting `pad_token_id` to `eos_token_id`:50256 for open-end generation.\n",
      " 93%|█████████▎| 152/164 [1:13:13<05:22, 26.86s/it]Setting `pad_token_id` to `eos_token_id`:50256 for open-end generation.\n",
      " 93%|█████████▎| 153/164 [1:13:47<05:18, 28.95s/it]Setting `pad_token_id` to `eos_token_id`:50256 for open-end generation.\n",
      " 94%|█████████▍| 154/164 [1:14:28<05:26, 32.66s/it]Setting `pad_token_id` to `eos_token_id`:50256 for open-end generation.\n",
      " 95%|█████████▍| 155/164 [1:15:15<05:32, 36.93s/it]Setting `pad_token_id` to `eos_token_id`:50256 for open-end generation.\n",
      " 95%|█████████▌| 156/164 [1:15:38<04:21, 32.70s/it]Setting `pad_token_id` to `eos_token_id`:50256 for open-end generation.\n",
      " 96%|█████████▌| 157/164 [1:16:10<03:48, 32.60s/it]Setting `pad_token_id` to `eos_token_id`:50256 for open-end generation.\n",
      " 96%|█████████▋| 158/164 [1:16:45<03:19, 33.21s/it]Setting `pad_token_id` to `eos_token_id`:50256 for open-end generation.\n",
      " 97%|█████████▋| 159/164 [1:17:12<02:36, 31.26s/it]Setting `pad_token_id` to `eos_token_id`:50256 for open-end generation.\n",
      " 98%|█████████▊| 160/164 [1:18:21<02:50, 42.64s/it]Setting `pad_token_id` to `eos_token_id`:50256 for open-end generation.\n",
      " 98%|█████████▊| 161/164 [1:19:19<02:22, 47.34s/it]Setting `pad_token_id` to `eos_token_id`:50256 for open-end generation.\n",
      " 99%|█████████▉| 162/164 [1:19:47<01:22, 41.36s/it]Setting `pad_token_id` to `eos_token_id`:50256 for open-end generation.\n",
      " 99%|█████████▉| 163/164 [1:20:07<00:35, 35.04s/it]Setting `pad_token_id` to `eos_token_id`:50256 for open-end generation.\n",
      "100%|██████████| 164/164 [1:20:29<00:00, 29.45s/it]\n"
     ]
    }
   ],
   "source": [
    "suggestions = generate_suggestions(generator, prompts, key = \"prompt\", max_new_length=max_new_length, num_suggestions=num_suggestions)"
   ]
  },
  {
   "cell_type": "code",
   "execution_count": 76,
   "metadata": {},
   "outputs": [],
   "source": [
    "write_suggestions(suggestions, suggestion_path)"
   ]
  },
  {
   "cell_type": "code",
   "execution_count": 71,
   "metadata": {},
   "outputs": [],
   "source": [
    "py_model_list = [\"Salesforce/codegen-350M-mono\", \"Salesforce/codegen-2B-mono\",\"Salesforce/codegen-6B-mono\", \"codeparrot/codeparrot-small\",\"codeparrot/codeparrot\"]"
   ]
  },
  {
   "cell_type": "code",
   "execution_count": 72,
   "metadata": {},
   "outputs": [],
   "source": [
    "multi_model_list = [ \"Salesforce/codegen-350M-multi\",  \"Salesforce/codegen-2B-multi\",\"Salesforce/codegen-6B-multi\", \"codeparrot/codeparrot-small-multi\", \"NinedayWang/PolyCoder-160M\",\"NinedayWang/PolyCoder-0.4B\",\"NinedayWang/PolyCoder-2.7B\", \"facebook/incoder-1B\", \"facebook/incoder-6B\"]"
   ]
  },
  {
   "cell_type": "code",
   "execution_count": 73,
   "metadata": {},
   "outputs": [
    {
     "data": {
      "text/plain": [
       "14"
      ]
     },
     "execution_count": 73,
     "metadata": {},
     "output_type": "execute_result"
    }
   ],
   "source": [
    "combined_model_list = py_model_list + multi_model_list\n",
    "len(combined_model_list)"
   ]
  },
  {
   "cell_type": "code",
   "execution_count": 78,
   "metadata": {},
   "outputs": [
    {
     "name": "stdout",
     "output_type": "stream",
     "text": [
      "Salesforce/codegen-350M-mono\n",
      "Salesforce/codegen-2B-mono\n",
      "Salesforce/codegen-6B-mono\n",
      "codeparrot/codeparrot-small\n",
      "codeparrot/codeparrot\n",
      "Salesforce/codegen-350M-multi\n",
      "Salesforce/codegen-2B-multi\n",
      "Salesforce/codegen-6B-multi\n",
      "codeparrot/codeparrot-small-multi\n",
      "NinedayWang/PolyCoder-160M\n",
      "NinedayWang/PolyCoder-0.4B\n",
      "NinedayWang/PolyCoder-2.7B\n",
      "facebook/incoder-1B\n",
      "facebook/incoder-6B\n"
     ]
    }
   ],
   "source": [
    "for model in combined_model_list:\n",
    "    print(model)\n",
    "    generator = get_generator(model)\n",
    "    "
   ]
  },
  {
   "cell_type": "code",
   "execution_count": null,
   "metadata": {},
   "outputs": [],
   "source": []
  }
 ],
 "metadata": {
  "kernelspec": {
   "display_name": "Python 3",
   "language": "python",
   "name": "python3"
  },
  "language_info": {
   "codemirror_mode": {
    "name": "ipython",
    "version": 3
   },
   "file_extension": ".py",
   "mimetype": "text/x-python",
   "name": "python",
   "nbconvert_exporter": "python",
   "pygments_lexer": "ipython3",
   "version": "3.9.4"
  },
  "orig_nbformat": 4
 },
 "nbformat": 4,
 "nbformat_minor": 2
}
