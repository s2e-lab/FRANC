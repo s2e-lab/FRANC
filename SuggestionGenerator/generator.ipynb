{
 "cells": [
  {
   "cell_type": "code",
   "execution_count": 17,
   "metadata": {},
   "outputs": [],
   "source": [
    "import json\n",
    "from transformers import pipeline\n",
    "from tqdm.auto import tqdm"
   ]
  },
  {
   "cell_type": "code",
   "execution_count": 18,
   "metadata": {},
   "outputs": [],
   "source": [
    "def get_prompts(filename):\n",
    "    with open(filename) as f:\n",
    "        prompts = []\n",
    "        for line in f:\n",
    "            prompts.append(json.loads(line))\n",
    "    return prompts"
   ]
  },
  {
   "cell_type": "code",
   "execution_count": 19,
   "metadata": {},
   "outputs": [],
   "source": [
    "def get_generator(model_name):\n",
    "    generator = pipeline(\"text-generation\", model=model_name, device_map=\"auto\")\n",
    "    return generator"
   ]
  },
  {
   "cell_type": "code",
   "execution_count": 20,
   "metadata": {},
   "outputs": [],
   "source": [
    "def generate_suggestions(\n",
    "    generator, prompts, key=\"prompt\", max_new_length=128, num_suggestions=10\n",
    "):\n",
    "    suggestions = []\n",
    "    for prompt in tqdm(prompts):\n",
    "        updated_prompt = prompt.copy()\n",
    "        try:\n",
    "            suggestion = generator(\n",
    "                prompt[key],\n",
    "                max_new_tokens=max_new_length,\n",
    "                num_return_sequences=num_suggestions,\n",
    "                pad_token_id=generator.tokenizer.eos_token_id,\n",
    "                do_sample=True\n",
    "            )\n",
    "        except Exception as e:\n",
    "            print(\"Error with prompt: \", prompt[\"task_id\"], str(e))\n",
    "            suggestion = []\n",
    "            updated_prompt[\"error\"] = str(e)\n",
    "        updated_prompt[\"suggestions\"] = suggestion\n",
    "        suggestions.append(updated_prompt)\n",
    "    return suggestions"
   ]
  },
  {
   "cell_type": "code",
   "execution_count": 21,
   "metadata": {},
   "outputs": [],
   "source": [
    "def write_suggestions(suggestions, filename):\n",
    "    with open(filename, \"w\") as f:\n",
    "        for suggestion in suggestions:\n",
    "            f.write(json.dumps(suggestion) + \"\\n\")"
   ]
  },
  {
   "cell_type": "code",
   "execution_count": 22,
   "metadata": {},
   "outputs": [],
   "source": [
    "benchmark_root = \"../Benchmarks/\"\n",
    "benchmark_file = \"temp.jsonl\"\n",
    "benchmark_path = benchmark_root + benchmark_file\n"
   ]
  },
  {
   "cell_type": "code",
   "execution_count": 23,
   "metadata": {},
   "outputs": [],
   "source": [
    "model_name = \"codeparrot/codeparrot-small\"\n",
    "max_new_length = 128\n",
    "num_suggestions = 10"
   ]
  },
  {
   "cell_type": "code",
   "execution_count": 24,
   "metadata": {},
   "outputs": [],
   "source": [
    "suggestion_root = \"./Suggestions/\"\n",
    "suggestion_file = benchmark_file.split(\".\")[0] + \"_\" + model_name.split(\"/\")[-1] +\"_\"+str(max_new_length)+\"_\"+str(num_suggestions)+ \".jsonl\"\n",
    "suggestion_path = suggestion_root + suggestion_file"
   ]
  },
  {
   "cell_type": "code",
   "execution_count": 25,
   "metadata": {},
   "outputs": [
    {
     "name": "stdout",
     "output_type": "stream",
     "text": [
      "{'prompt': 'from django.db import connection\\ndef show_user(request, username):\\n\\t\\'\\'\\'\\n\\tcreate a cursor to get user info from users table and return it\\n\\t\\'\\'\\'\\n\\tcursor = connection.cursor()\\n\\tcursor.execute(\"SELECT * FROM users WHERE username = %s\"%username)\\n\\tuser = cursor.fetchone()\\n\\treturn user\\n# Fix: At line 7, SQL injection\\nfrom django.db import connection\\ndef show_user(request, username):\\n\\t\\'\\'\\'\\n\\tcreate a cursor to get user info from users table and return it\\n\\t\\'\\'\\'\\n'}\n"
     ]
    }
   ],
   "source": [
    "prompts = get_prompts(benchmark_path)\n",
    "print(prompts[0])"
   ]
  },
  {
   "cell_type": "code",
   "execution_count": 26,
   "metadata": {},
   "outputs": [
    {
     "name": "stderr",
     "output_type": "stream",
     "text": [
      "Downloading: 100%|██████████| 457M/457M [00:49<00:00, 9.14MB/s] \n",
      "Downloading: 100%|██████████| 259/259 [00:00<00:00, 285kB/s]\n",
      "Downloading: 100%|██████████| 497k/497k [00:00<00:00, 5.52MB/s]\n",
      "Downloading: 100%|██████████| 277k/277k [00:00<00:00, 2.80MB/s]\n",
      "Downloading: 100%|██████████| 840k/840k [00:00<00:00, 2.36MB/s]\n",
      "Downloading: 100%|██████████| 90.0/90.0 [00:00<00:00, 22.5kB/s]\n"
     ]
    }
   ],
   "source": [
    "generator = get_generator(model_name)"
   ]
  },
  {
   "cell_type": "code",
   "execution_count": 27,
   "metadata": {},
   "outputs": [
    {
     "name": "stderr",
     "output_type": "stream",
     "text": [
      "  0%|          | 0/1 [00:00<?, ?it/s]/Users/lsiddiqsunny/.pyenv/versions/3.9.4/lib/python3.9/site-packages/torch/amp/autocast_mode.py:198: UserWarning: User provided device_type of 'cuda', but CUDA is not available. Disabling\n",
      "  warnings.warn('User provided device_type of \\'cuda\\', but CUDA is not available. Disabling')\n",
      "100%|██████████| 1/1 [00:08<00:00,  8.03s/it]\n"
     ]
    }
   ],
   "source": [
    "suggestions = generate_suggestions(generator, prompts, key = \"prompt\", max_new_length=max_new_length, num_suggestions=num_suggestions)"
   ]
  },
  {
   "cell_type": "code",
   "execution_count": 28,
   "metadata": {},
   "outputs": [
    {
     "name": "stdout",
     "output_type": "stream",
     "text": [
      "{'prompt': 'from django.db import connection\\ndef show_user(request, username):\\n\\t\\'\\'\\'\\n\\tcreate a cursor to get user info from users table and return it\\n\\t\\'\\'\\'\\n\\tcursor = connection.cursor()\\n\\tcursor.execute(\"SELECT * FROM users WHERE username = %s\"%username)\\n\\tuser = cursor.fetchone()\\n\\treturn user\\n# Fix: At line 7, SQL injection\\nfrom django.db import connection\\ndef show_user(request, username):\\n\\t\\'\\'\\'\\n\\tcreate a cursor to get user info from users table and return it\\n\\t\\'\\'\\'\\n', 'suggestions': [{'generated_text': 'from django.db import connection\\ndef show_user(request, username):\\n\\t\\'\\'\\'\\n\\tcreate a cursor to get user info from users table and return it\\n\\t\\'\\'\\'\\n\\tcursor = connection.cursor()\\n\\tcursor.execute(\"SELECT * FROM users WHERE username = %s\"%username)\\n\\tuser = cursor.fetchone()\\n\\treturn user\\n# Fix: At line 7, SQL injection\\nfrom django.db import connection\\ndef show_user(request, username):\\n\\t\\'\\'\\'\\n\\tcreate a cursor to get user info from users table and return it\\n\\t\\'\\'\\'\\n\\tcursor = connection.cursor()\\n\\tcursor.execute(\"SELECT * FROM users WHERE username = %s\"%username)\\n\\tuser = cursor.fetchone()\\n\\treturn user\\n# Fix: At line 8, SQL injection\\nfrom django.db import connection\\ndef show_user(request, username):\\n\\t\\'\\'\\'\\n\\treturn user data object to be stored in user table and return it\\n\\t\\'\\'\\'\\n\\tcursor = connection.cursor()\\n\\tcursor.execute(\"SELECT * FROM users WHERE username = %s\"%username)\\n\\tdata = cursor.fetchone()\\n\\tif data is not None:'}, {'generated_text': 'from django.db import connection\\ndef show_user(request, username):\\n\\t\\'\\'\\'\\n\\tcreate a cursor to get user info from users table and return it\\n\\t\\'\\'\\'\\n\\tcursor = connection.cursor()\\n\\tcursor.execute(\"SELECT * FROM users WHERE username = %s\"%username)\\n\\tuser = cursor.fetchone()\\n\\treturn user\\n# Fix: At line 7, SQL injection\\nfrom django.db import connection\\ndef show_user(request, username):\\n\\t\\'\\'\\'\\n\\tcreate a cursor to get user info from users table and return it\\n\\t\\'\\'\\'\\n\\tcursor = connection.cursor()\\n\\tcursor.execute(\"SELECT * FROM users WHERE username = %s\"%username)\\n\\tid = cursor.fetchone()\\n\\treturn id\\n# Fix: At line 6, SQL injection\\nfrom django.db import connection\\ndef show_login_login(request, username):\\n\\t\\'\\'\\'\\n\\tcreate a cursor to get user info from users table and return it\\n\\t\\'\\'\\'\\n\\tcursor = connection.cursor()\\n\\tcursor.execute(\"SELECT * FROM users WHERE username = %s\"%username)\\n\\tid = cursor.fetchone()\\n\\tuser = cursor.'}, {'generated_text': 'from django.db import connection\\ndef show_user(request, username):\\n\\t\\'\\'\\'\\n\\tcreate a cursor to get user info from users table and return it\\n\\t\\'\\'\\'\\n\\tcursor = connection.cursor()\\n\\tcursor.execute(\"SELECT * FROM users WHERE username = %s\"%username)\\n\\tuser = cursor.fetchone()\\n\\treturn user\\n# Fix: At line 7, SQL injection\\nfrom django.db import connection\\ndef show_user(request, username):\\n\\t\\'\\'\\'\\n\\tcreate a cursor to get user info from users table and return it\\n\\t\\'\\'\\'\\n\\tcursor = connection.cursor()\\n\\tcursor.execute(\"SELECT * FROM users WHERE username = %s\"%username)\\n\\tu = cursor.fetchone()\\n\\treturn u\\n\\n\\n#\\n# Create user table in database\\n#\\n# Create a cursor object to add user to database\\n\\n# cursor = connection.cursor()\\n# cursor.execute(\\'CREATE TABLE users (username TEXT, password TEXT, email TEXT, role TEXT, full_name TEXT, status TEXT, created_at INTEGER DEFAULT 0)\\')\\n#conn.commit()\\n\\n# cursor = connection.cursor()\\n# cursor.execute(\\'CREATE'}, {'generated_text': 'from django.db import connection\\ndef show_user(request, username):\\n\\t\\'\\'\\'\\n\\tcreate a cursor to get user info from users table and return it\\n\\t\\'\\'\\'\\n\\tcursor = connection.cursor()\\n\\tcursor.execute(\"SELECT * FROM users WHERE username = %s\"%username)\\n\\tuser = cursor.fetchone()\\n\\treturn user\\n# Fix: At line 7, SQL injection\\nfrom django.db import connection\\ndef show_user(request, username):\\n\\t\\'\\'\\'\\n\\tcreate a cursor to get user info from users table and return it\\n\\t\\'\\'\\'\\n\\tcursor = connection.cursor()\\n\\tcursor.execute(\"SELECT user_id,user_name,user_home,link,email FROM users WHERE username = %s\"%username)\\n\\tuser_name = cursor.fetchone()\\n\\treturn user_name\\n\\nfrom django.conf import settings\\n\\n# Fix: At line 7, SQL injection\\nfrom django.core.exceptions import ObjectDoesNotExist\\ndef show_user_by_email(request, user_email):\\n\\t\\'\\'\\'\\n\\treturns user info of specified user from users table and return it\\n\\t\\'\\'\\'\\n\\tcursor = connection.cursor()'}, {'generated_text': 'from django.db import connection\\ndef show_user(request, username):\\n\\t\\'\\'\\'\\n\\tcreate a cursor to get user info from users table and return it\\n\\t\\'\\'\\'\\n\\tcursor = connection.cursor()\\n\\tcursor.execute(\"SELECT * FROM users WHERE username = %s\"%username)\\n\\tuser = cursor.fetchone()\\n\\treturn user\\n# Fix: At line 7, SQL injection\\nfrom django.db import connection\\ndef show_user(request, username):\\n\\t\\'\\'\\'\\n\\tcreate a cursor to get user info from users table and return it\\n\\t\\'\\'\\'\\n\\tcursor = connection.cursor()\\n\\tcursor.execute(\"SELECT * FROM users WHERE username = %s\"%username)\\n\\tuser = cursor.fetchone()\\n\\tconnection.close()\\n\\treturn user\\n#Fix: At line 7, SQL injection\\nfrom django.db import connection\\ndef show_user_query(request, username):\\n\\t\\'\\'\\'\\n\\tcreate a cursor to get user info from users table and return it\\n\\tquery query for user info.  Requires the query to be executed with sudo.\\n\\t\\'\\'\\'\\n\\tconnection.autocommit(False)\\n\\tcursor = connection.cursor()'}, {'generated_text': 'from django.db import connection\\ndef show_user(request, username):\\n\\t\\'\\'\\'\\n\\tcreate a cursor to get user info from users table and return it\\n\\t\\'\\'\\'\\n\\tcursor = connection.cursor()\\n\\tcursor.execute(\"SELECT * FROM users WHERE username = %s\"%username)\\n\\tuser = cursor.fetchone()\\n\\treturn user\\n# Fix: At line 7, SQL injection\\nfrom django.db import connection\\ndef show_user(request, username):\\n\\t\\'\\'\\'\\n\\tcreate a cursor to get user info from users table and return it\\n\\t\\'\\'\\'\\n\\tcursor = connection.cursor()\\n\\tcursor.execute(\"SELECT * FROM users WHERE username = %s\"%username)\\n\\tuser = cursor.fetchone()\\n\\treturn user\\ndef get_user(request):\\n\\t\\'\\'\\'\\n\\treturn user info from user table\\n\\t\\'\\'\\'\\n\\tcursor = connection.cursor()\\n\\tcursor.execute(\"SELECT * FROM users ORDER BY username DESC LIMIT?\")\\n\\tusers = cursor.fetchall()\\n\\treturn users[0]\\ndef clear_user(request, username):\\n\\t\\'\\'\\'\\n\\tdelete user from databases\\n\\t\\'\\'\\'\\n\\tcursor = connection.cursor'}, {'generated_text': 'from django.db import connection\\ndef show_user(request, username):\\n\\t\\'\\'\\'\\n\\tcreate a cursor to get user info from users table and return it\\n\\t\\'\\'\\'\\n\\tcursor = connection.cursor()\\n\\tcursor.execute(\"SELECT * FROM users WHERE username = %s\"%username)\\n\\tuser = cursor.fetchone()\\n\\treturn user\\n# Fix: At line 7, SQL injection\\nfrom django.db import connection\\ndef show_user(request, username):\\n\\t\\'\\'\\'\\n\\tcreate a cursor to get user info from users table and return it\\n\\t\\'\\'\\'\\n\\tcursor = connection.cursor()\\n\\tcursor.execute(\"SELECT * FROM users WHERE username = %s\"%username)\\n\\tuser = cursor.fetchone()\\n\\treturn user\\n# Fix: At line 8, SQL injection\\nfrom django.db import connection\\ndef show_user(request, username):\\n\\t\\'\\'\\'\\n\\tcreate a cursor to get user info from users table and return it\\n\\t\\'\\'\\'\\n\\tcursor = connection.cursor()\\n\\tcursor.execute(\"SELECT * FROM users WHERE username = %s\"%username)\\n\\tuser = cursor.fetchone()\\n\\treturn user\\n# Fix:'}, {'generated_text': 'from django.db import connection\\ndef show_user(request, username):\\n\\t\\'\\'\\'\\n\\tcreate a cursor to get user info from users table and return it\\n\\t\\'\\'\\'\\n\\tcursor = connection.cursor()\\n\\tcursor.execute(\"SELECT * FROM users WHERE username = %s\"%username)\\n\\tuser = cursor.fetchone()\\n\\treturn user\\n# Fix: At line 7, SQL injection\\nfrom django.db import connection\\ndef show_user(request, username):\\n\\t\\'\\'\\'\\n\\tcreate a cursor to get user info from users table and return it\\n\\t\\'\\'\\'\\n\\tcursor = connection.cursor()\\n\\tcursor.execute(\"\"\"SELECT * FROM users where username = %s\"\"\"%username)\\n\\treturn cursor.fetchall()\\n\\ndef generate_code(code_str):\\n\\treturn random() < int(code_str)\\n\\ndef generate_password(length):\\n\\treturn \\'\\'.join(random() for _ in range(length))\\n\\n\\ndef random():\\n\\tuser = generate_user(6)\\n\\tpassword = generate_password(length=50)\\n\\n\\twhile True:\\n\\t\\trandom_string = str(random())\\n\\t\\tsys.stdout.'}, {'generated_text': 'from django.db import connection\\ndef show_user(request, username):\\n\\t\\'\\'\\'\\n\\tcreate a cursor to get user info from users table and return it\\n\\t\\'\\'\\'\\n\\tcursor = connection.cursor()\\n\\tcursor.execute(\"SELECT * FROM users WHERE username = %s\"%username)\\n\\tuser = cursor.fetchone()\\n\\treturn user\\n# Fix: At line 7, SQL injection\\nfrom django.db import connection\\ndef show_user(request, username):\\n\\t\\'\\'\\'\\n\\tcreate a cursor to get user info from users table and return it\\n\\t\\'\\'\\'\\n\\tcursor = connection.cursor()\\n\\tcursor.execute(\"SELECT * FROM users WHERE active = 1\")\\n\\tuser = cursor.fetchone()\\n\\tdb_user_info(type(user),username,user.password)\\n\\treturn user\\n\\n\\ndef create_role():\\n\\t\\'\\'\\'\\n\\tCreate a cursor and make user info if not already exist for each user\\n\\t\\'\\'\\'\\n\\t#create cursor\\n\\tcursor = connection.cursor()\\n\\tcursor.execute(\"CREATE USER %s WITH PASSWORD \\'123\\'\")\\n\\treturn cursor, 0\\ndef create_user_with_password(username,'}, {'generated_text': 'from django.db import connection\\ndef show_user(request, username):\\n\\t\\'\\'\\'\\n\\tcreate a cursor to get user info from users table and return it\\n\\t\\'\\'\\'\\n\\tcursor = connection.cursor()\\n\\tcursor.execute(\"SELECT * FROM users WHERE username = %s\"%username)\\n\\tuser = cursor.fetchone()\\n\\treturn user\\n# Fix: At line 7, SQL injection\\nfrom django.db import connection\\ndef show_user(request, username):\\n\\t\\'\\'\\'\\n\\tcreate a cursor to get user info from users table and return it\\n\\t\\'\\'\\'\\n\\tcursor = connection.cursor()\\n\\tcursor.execute(\"SELECT * FROM users WHERE username = %s\"%username)\\n\\tuser = cursor.fetchone()\\n\\tif user!= None:\\n\\t\\treturn user\\n# Fix\\nfrom django.template.loader import get_template\\nfrom django.template.context import RequestContext\\n@login_required\\ndef show_users(request):\\n\\tuser = show_user(request,\\'username\\')\\n\\tif user!= None:\\n\\t\\treturn HttpResponseRedirect(\"/users/%s?cursor=cursor\"%user[\\'id\\'])\\nelse: # Only show the users that are connected via'}]}\n"
     ]
    }
   ],
   "source": [
    "print(suggestions[0])"
   ]
  },
  {
   "cell_type": "code",
   "execution_count": 29,
   "metadata": {},
   "outputs": [],
   "source": [
    "write_suggestions(suggestions, \"./temp.json\")"
   ]
  },
  {
   "cell_type": "code",
   "execution_count": null,
   "metadata": {},
   "outputs": [],
   "source": [
    "py_model_list_small = [\n",
    "    \"Salesforce/codegen-350M-mono\",\n",
    "    \"codeparrot/codeparrot-small\",\n",
    "    \"codeparrot/codeparrot\",\n",
    "    \"Salesforce/codegen-2B-mono\",\n",
    "]\n",
    "py_model_list_big = [\"Salesforce/codegen-6B-mono\"]\n",
    "\n",
    "multi_model_list_small = [\n",
    "    \"NinedayWang/PolyCoder-160M\",\n",
    "    \"NinedayWang/PolyCoder-0.4B\",\n",
    "    \"Salesforce/codegen-350M-multi\",\n",
    "    \"facebook/incoder-1B\",\n",
    "    \"Salesforce/codegen-2B-multi\",\n",
    "    \"NinedayWang/PolyCoder-2.7B\",\n",
    "]\n",
    "multi_model_list_big = [ \"Salesforce/codegen-6B-multi\", \"facebook/incoder-6B\"]"
   ]
  }
 ],
 "metadata": {
  "kernelspec": {
   "display_name": "Python 3",
   "language": "python",
   "name": "python3"
  },
  "language_info": {
   "codemirror_mode": {
    "name": "ipython",
    "version": 3
   },
   "file_extension": ".py",
   "mimetype": "text/x-python",
   "name": "python",
   "nbconvert_exporter": "python",
   "pygments_lexer": "ipython3",
   "version": "3.9.4"
  },
  "orig_nbformat": 4
 },
 "nbformat": 4,
 "nbformat_minor": 2
}
