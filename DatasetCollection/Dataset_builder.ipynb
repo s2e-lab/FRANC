{
 "cells": [
  {
   "cell_type": "code",
   "execution_count": 1,
   "metadata": {},
   "outputs": [],
   "source": [
    "import json\n",
    "import os"
   ]
  },
  {
   "cell_type": "code",
   "execution_count": 2,
   "metadata": {},
   "outputs": [],
   "source": [
    "root = \"./PythonPrompts/\"\n",
    "file_list = os.listdir(root)\n",
    "prompts = []\n",
    "for file in file_list:\n",
    "    id = file.split(\".\")[0]\n",
    "    with open(root + file, \"r\") as f:\n",
    "        prompt = f.read()\n",
    "        prompts.append({\"task_id\": id, \"prompt\": prompt.strip()})\n",
    "assert len(prompts) == 42\n",
    "\n",
    "with open('../Benchmarks/SOEvalPython.jsonl', 'w') as outfile:\n",
    "    for prompt in prompts:\n",
    "        json.dump(prompt, outfile)\n",
    "        outfile.write('\\n')"
   ]
  },
  {
   "cell_type": "code",
   "execution_count": 3,
   "metadata": {},
   "outputs": [],
   "source": [
    "root = \"./JavaPrompts/\"\n",
    "file_list = os.listdir(root)\n",
    "prompts = []\n",
    "for file in file_list:\n",
    "    id = file.split(\".\")[0]\n",
    "    with open(root + file, \"r\") as f:\n",
    "        prompt = f.read()\n",
    "        prompts.append({\"id\": id, \"prompt\": prompt.strip()})\n",
    "\n",
    "assert len(prompts) == 28\n",
    "\n",
    "with open('../Benchmarks/SOEvalJava.jsonl', 'w') as outfile:\n",
    "    for prompt in prompts:\n",
    "        json.dump(prompt, outfile)\n",
    "        outfile.write('\\n')"
   ]
  }
 ],
 "metadata": {
  "kernelspec": {
   "display_name": "Python 3",
   "language": "python",
   "name": "python3"
  },
  "language_info": {
   "codemirror_mode": {
    "name": "ipython",
    "version": 3
   },
   "file_extension": ".py",
   "mimetype": "text/x-python",
   "name": "python",
   "nbconvert_exporter": "python",
   "pygments_lexer": "ipython3",
   "version": "3.9.4"
  },
  "orig_nbformat": 4
 },
 "nbformat": 4,
 "nbformat_minor": 2
}
