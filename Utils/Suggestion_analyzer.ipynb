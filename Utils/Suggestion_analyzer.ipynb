{
 "cells": [
  {
   "cell_type": "code",
   "execution_count": 3,
   "metadata": {},
   "outputs": [],
   "source": [
    "import json\n",
    "import os"
   ]
  },
  {
   "cell_type": "code",
   "execution_count": 4,
   "metadata": {},
   "outputs": [
    {
     "data": {
      "text/plain": [
       "44"
      ]
     },
     "execution_count": 4,
     "metadata": {},
     "output_type": "execute_result"
    }
   ],
   "source": [
    "folder_root = '../SuggestionGenerator/Suggestions/'\n",
    "files = os.listdir(folder_root)\n",
    "len(files)"
   ]
  },
  {
   "cell_type": "code",
   "execution_count": 5,
   "metadata": {},
   "outputs": [
    {
     "name": "stdout",
     "output_type": "stream",
     "text": [
      "CoderEval4Python_prompt_codeparrot_128_10.jsonl\n",
      "HumanEval_java_incoder-1B_128_10.jsonl\n",
      "HumanEval_python_PolyCoder-2.7B_128_10.jsonl\n",
      "CoderEval4Python_prompt_codegen-350M-multi_128_10.jsonl\n",
      "CoderEval4Java_prompt_PolyCoder-0.4B_128_10.jsonl\n",
      "HumanEval_python_codegen-350M-multi_128_10.jsonl\n",
      ".DS_Store\n",
      "HumanEval_python_codegen-350M-mono_128_10.jsonl\n",
      "aiXcoder_prompt_incoder-1B_128_10.jsonl\n",
      "CoderEval4Python_prompt_gpt3.5_512_10.jsonl\n",
      "HumanEval_java_PolyCoder-2.7B_128_10.jsonl\n",
      "HumanEval_python_gpt3.5_512_10.jsonl\n",
      "aiXcoder_prompt_PolyCoder-0.4B_128_10.jsonl\n",
      "HumanEval_java_codegen-2B-multi_128_10.jsonl\n",
      "HumanEval_python_codeparrot_128_10.jsonl\n",
      "CoderEval4Python_prompt_PolyCoder-2.7B_128_10.jsonl\n",
      "aiXcoder_prompt_gpt3.5_512_10.jsonl\n",
      "aiXcoder_prompt_PolyCoder-160M_128_10.jsonl\n",
      "CoderEval4Java_prompt_PolyCoder-160M_128_10.jsonl\n",
      "HumanEval_java_PolyCoder-160M_128_10.jsonl\n",
      "CoderEval4Python_prompt_codegen-2B-mono_128_10.jsonl\n",
      "CoderEval4Python_prompt_codegen-350M-mono_128_10.jsonl\n",
      "CoderEval4Python_prompt_PolyCoder-0.4B_128_10.jsonl\n",
      "HumanEval_python_codegen-2B-mono_128_10.jsonl\n",
      "CoderEval4Python_prompt_incoder-1B_128_10.jsonl\n",
      "HumanEval_python_PolyCoder-160M_128_10.jsonl\n",
      "aiXcoder_prompt_PolyCoder-2.7B_128_10.jsonl\n",
      "CoderEval4Python_prompt_codegen-2B-multi_128_10.jsonl\n",
      "CoderEval4Python_prompt_PolyCoder-160M_128_10.jsonl\n",
      "HumanEval_java_PolyCoder-0.4B_128_10.jsonl\n",
      "HumanEval_java_gpt3.5_512_10.jsonl\n",
      "CoderEval4Java_prompt_gpt3.5_512_10.jsonl\n",
      "CoderEval4Java_prompt_PolyCoder-2.7B_128_10.jsonl\n",
      "CoderEval4Python_prompt_codeparrot-small_128_10.jsonl\n",
      "HumanEval_python_codegen-2B-multi_128_10.jsonl\n",
      "CoderEval4Java_prompt_incoder-1B_128_10.jsonl\n",
      "aiXcoder_prompt_codegen-2B-multi_128_10.jsonl\n",
      "HumanEval_python_incoder-1B_128_10.jsonl\n",
      "CoderEval4Java_prompt_codegen-2B-multi_128_10.jsonl\n",
      "aiXcoder_prompt_codegen-350M-multi_128_10.jsonl\n",
      "HumanEval_python_PolyCoder-0.4B_128_10.jsonl\n",
      "HumanEval_java_codegen-350M-multi_128_10.jsonl\n",
      "CoderEval4Java_prompt_codegen-350M-multi_128_10.jsonl\n",
      "HumanEval_python_codeparrot-small_128_10.jsonl\n"
     ]
    }
   ],
   "source": [
    "code_folder_root = './Codes/'\n",
    "for file in files:\n",
    "    print(file)\n",
    "    if '.DS_Store' in file:\n",
    "        continue\n",
    "    code_folder = \"_\".join(file.split('_')[0:2])\n",
    "    if not os.path.exists(code_folder_root+code_folder):\n",
    "        os.mkdir(code_folder_root+code_folder)\n",
    "    \n",
    "    model = file.split('_')[2]\n",
    "    if not os.path.exists(code_folder_root+code_folder+'/'+model):\n",
    "        os.mkdir(code_folder_root+code_folder+'/'+model)\n",
    "\n",
    "    path_to_file = code_folder_root+code_folder+'/'+model+'/'\n",
    "    extension = \".java\"\n",
    "    model = file.split('_')[2]\n",
    "    if 'python' in file.lower():\n",
    "        extension = \".py\"\n",
    "    with open(folder_root+file) as f:\n",
    "        for line in f:\n",
    "            data = json.loads(line)\n",
    "            data['task_id'] = str(data['task_id']).replace('/', '_')\n",
    "            for i in range(len(data['suggestions'])):\n",
    "                with open(path_to_file+str(data['task_id'])+'_'+str(i)+extension, 'w') as f:\n",
    "                    f.write(data['suggestions'][i]['generated_text'])"
   ]
  }
 ],
 "metadata": {
  "kernelspec": {
   "display_name": "Python 3",
   "language": "python",
   "name": "python3"
  },
  "language_info": {
   "codemirror_mode": {
    "name": "ipython",
    "version": 3
   },
   "file_extension": ".py",
   "mimetype": "text/x-python",
   "name": "python",
   "nbconvert_exporter": "python",
   "pygments_lexer": "ipython3",
   "version": "3.9.4"
  },
  "orig_nbformat": 4
 },
 "nbformat": 4,
 "nbformat_minor": 2
}
