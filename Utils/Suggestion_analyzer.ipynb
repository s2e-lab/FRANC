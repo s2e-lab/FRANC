{
 "cells": [
  {
   "cell_type": "code",
   "execution_count": 22,
   "metadata": {},
   "outputs": [],
   "source": [
    "import json\n",
    "import os"
   ]
  },
  {
   "cell_type": "code",
   "execution_count": 23,
   "metadata": {},
   "outputs": [
    {
     "data": {
      "text/plain": [
       "43"
      ]
     },
     "execution_count": 23,
     "metadata": {},
     "output_type": "execute_result"
    }
   ],
   "source": [
    "folder_root = '../SuggestionGenerator/Suggestions/'\n",
    "files = os.listdir(folder_root)\n",
    "len(files)"
   ]
  },
  {
   "cell_type": "code",
   "execution_count": null,
   "metadata": {},
   "outputs": [],
   "source": [
    "code_folder_root = './Codes/'\n",
    "for file in files:\n",
    "    print(file)\n",
    "    if '.DS_Store' in file or 'gpt3.5' in file:\n",
    "        continue\n",
    "    code_folder = \"_\".join(file.split('_')[0:2])\n",
    "    if not os.path.exists(code_folder_root+code_folder):\n",
    "        os.mkdir(code_folder_root+code_folder)\n",
    "    extension = \".java\"\n",
    "    model = file.split('_')[2]\n",
    "    if 'python' in file.lower():\n",
    "        extension = \".py\"\n",
    "    with open(folder_root+file) as f:\n",
    "        for line in f:\n",
    "            data = json.loads(line)\n",
    "            data['task_id'] = str(data['task_id']).replace('/', '_')\n",
    "            for i in range(len(data['suggestions'])):\n",
    "                with open(code_folder_root+code_folder+'/'+model+\"_\"+str(data['task_id'])+'_'+str(i)+extension, 'w') as f:\n",
    "                    f.write(data['suggestions'][i]['generated_text'])"
   ]
  }
 ],
 "metadata": {
  "kernelspec": {
   "display_name": "Python 3",
   "language": "python",
   "name": "python3"
  },
  "language_info": {
   "codemirror_mode": {
    "name": "ipython",
    "version": 3
   },
   "file_extension": ".py",
   "mimetype": "text/x-python",
   "name": "python",
   "nbconvert_exporter": "python",
   "pygments_lexer": "ipython3",
   "version": "3.9.4"
  },
  "orig_nbformat": 4
 },
 "nbformat": 4,
 "nbformat_minor": 2
}
