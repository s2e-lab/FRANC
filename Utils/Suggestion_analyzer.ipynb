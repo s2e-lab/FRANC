{
 "cells": [
  {
   "cell_type": "code",
   "execution_count": 1,
   "metadata": {},
   "outputs": [],
   "source": [
    "import json\n",
    "import os"
   ]
  },
  {
   "cell_type": "code",
   "execution_count": 2,
   "metadata": {},
   "outputs": [
    {
     "data": {
      "text/plain": [
       "46"
      ]
     },
     "execution_count": 2,
     "metadata": {},
     "output_type": "execute_result"
    }
   ],
   "source": [
    "folder_root = '../SuggestionGenerator/Suggestions/'\n",
    "files = os.listdir(folder_root)\n",
    "len(files)"
   ]
  },
  {
   "cell_type": "code",
   "execution_count": 3,
   "metadata": {},
   "outputs": [
    {
     "name": "stdout",
     "output_type": "stream",
     "text": [
      "CoderEval4Python_prompt_codeparrot_128_10.jsonl\n",
      "HumanEval_java_incoder-1B_128_10.jsonl\n",
      "HumanEval_python_PolyCoder-2.7B_128_10.jsonl\n",
      "CoderEval4Python_prompt_codegen-350M-multi_128_10.jsonl\n",
      "CoderEval4Java_prompt_PolyCoder-0.4B_128_10.jsonl\n",
      "HumanEval_python_codegen-350M-multi_128_10.jsonl\n",
      ".DS_Store\n",
      "HumanEval_python_codegen-350M-mono_128_10.jsonl\n",
      "aiXcoder_prompt_incoder-1B_128_10.jsonl\n",
      "CoderEval4Python_prompt_gpt3.5_512_10.jsonl\n",
      "HumanEval_java_PolyCoder-2.7B_128_10.jsonl\n",
      "HumanEval_python_gpt3.5_512_10.jsonl\n",
      "aiXcoder_prompt_PolyCoder-0.4B_128_10.jsonl\n",
      "HumanEval_java_codegen-2B-multi_128_10.jsonl\n",
      "HumanEval_python_codeparrot_128_10.jsonl\n",
      "SOEvalPython_gpt3.5_512_10.jsonl\n"
     ]
    },
    {
     "ename": "KeyError",
     "evalue": "'task_id'",
     "output_type": "error",
     "traceback": [
      "\u001b[0;31m---------------------------------------------------------------------------\u001b[0m",
      "\u001b[0;31mKeyError\u001b[0m                                  Traceback (most recent call last)",
      "\u001b[0;32m/var/folders/9d/98myd0lx1rn2j76hx3t96x1r0000gn/T/ipykernel_8729/716181117.py\u001b[0m in \u001b[0;36m<module>\u001b[0;34m\u001b[0m\n\u001b[1;32m     20\u001b[0m         \u001b[0;32mfor\u001b[0m \u001b[0mline\u001b[0m \u001b[0;32min\u001b[0m \u001b[0mf\u001b[0m\u001b[0;34m:\u001b[0m\u001b[0;34m\u001b[0m\u001b[0;34m\u001b[0m\u001b[0m\n\u001b[1;32m     21\u001b[0m             \u001b[0mdata\u001b[0m \u001b[0;34m=\u001b[0m \u001b[0mjson\u001b[0m\u001b[0;34m.\u001b[0m\u001b[0mloads\u001b[0m\u001b[0;34m(\u001b[0m\u001b[0mline\u001b[0m\u001b[0;34m)\u001b[0m\u001b[0;34m\u001b[0m\u001b[0;34m\u001b[0m\u001b[0m\n\u001b[0;32m---> 22\u001b[0;31m             \u001b[0mdata\u001b[0m\u001b[0;34m[\u001b[0m\u001b[0;34m'task_id'\u001b[0m\u001b[0;34m]\u001b[0m \u001b[0;34m=\u001b[0m \u001b[0mstr\u001b[0m\u001b[0;34m(\u001b[0m\u001b[0mdata\u001b[0m\u001b[0;34m[\u001b[0m\u001b[0;34m'task_id'\u001b[0m\u001b[0;34m]\u001b[0m\u001b[0;34m)\u001b[0m\u001b[0;34m.\u001b[0m\u001b[0mreplace\u001b[0m\u001b[0;34m(\u001b[0m\u001b[0;34m'/'\u001b[0m\u001b[0;34m,\u001b[0m \u001b[0;34m'_'\u001b[0m\u001b[0;34m)\u001b[0m\u001b[0;34m\u001b[0m\u001b[0;34m\u001b[0m\u001b[0m\n\u001b[0m\u001b[1;32m     23\u001b[0m             \u001b[0;32mfor\u001b[0m \u001b[0mi\u001b[0m \u001b[0;32min\u001b[0m \u001b[0mrange\u001b[0m\u001b[0;34m(\u001b[0m\u001b[0mlen\u001b[0m\u001b[0;34m(\u001b[0m\u001b[0mdata\u001b[0m\u001b[0;34m[\u001b[0m\u001b[0;34m'suggestions'\u001b[0m\u001b[0;34m]\u001b[0m\u001b[0;34m)\u001b[0m\u001b[0;34m)\u001b[0m\u001b[0;34m:\u001b[0m\u001b[0;34m\u001b[0m\u001b[0;34m\u001b[0m\u001b[0m\n\u001b[1;32m     24\u001b[0m                 \u001b[0;32mwith\u001b[0m \u001b[0mopen\u001b[0m\u001b[0;34m(\u001b[0m\u001b[0mpath_to_file\u001b[0m\u001b[0;34m+\u001b[0m\u001b[0mstr\u001b[0m\u001b[0;34m(\u001b[0m\u001b[0mdata\u001b[0m\u001b[0;34m[\u001b[0m\u001b[0;34m'task_id'\u001b[0m\u001b[0;34m]\u001b[0m\u001b[0;34m)\u001b[0m\u001b[0;34m+\u001b[0m\u001b[0;34m'_'\u001b[0m\u001b[0;34m+\u001b[0m\u001b[0mstr\u001b[0m\u001b[0;34m(\u001b[0m\u001b[0mi\u001b[0m\u001b[0;34m)\u001b[0m\u001b[0;34m+\u001b[0m\u001b[0mextension\u001b[0m\u001b[0;34m,\u001b[0m \u001b[0;34m'w'\u001b[0m\u001b[0;34m)\u001b[0m \u001b[0;32mas\u001b[0m \u001b[0mf\u001b[0m\u001b[0;34m:\u001b[0m\u001b[0;34m\u001b[0m\u001b[0;34m\u001b[0m\u001b[0m\n",
      "\u001b[0;31mKeyError\u001b[0m: 'task_id'"
     ]
    }
   ],
   "source": [
    "code_folder_root = './Codes/'\n",
    "for file in files:\n",
    "    print(file)\n",
    "    if '.DS_Store' in file:\n",
    "        continue\n",
    "    code_folder = \"_\".join(file.split('_')[0:2])\n",
    "    if not os.path.exists(code_folder_root+code_folder):\n",
    "        os.mkdir(code_folder_root+code_folder)\n",
    "    \n",
    "    model = file.split('_')[2]\n",
    "    if not os.path.exists(code_folder_root+code_folder+'/'+model):\n",
    "        os.mkdir(code_folder_root+code_folder+'/'+model)\n",
    "\n",
    "    path_to_file = code_folder_root+code_folder+'/'+model+'/'\n",
    "    extension = \".java\"\n",
    "    model = file.split('_')[2]\n",
    "    if 'python' in file.lower():\n",
    "        extension = \".py\"\n",
    "    with open(folder_root+file) as f:\n",
    "        for line in f:\n",
    "            data = json.loads(line)\n",
    "            data['task_id'] = str(data['task_id']).replace('/', '_')\n",
    "            for i in range(len(data['suggestions'])):\n",
    "                with open(path_to_file+str(data['task_id'])+'_'+str(i)+extension, 'w') as f:\n",
    "                    f.write(data['suggestions'][i]['generated_text'])"
   ]
  }
 ],
 "metadata": {
  "kernelspec": {
   "display_name": "Python 3",
   "language": "python",
   "name": "python3"
  },
  "language_info": {
   "codemirror_mode": {
    "name": "ipython",
    "version": 3
   },
   "file_extension": ".py",
   "mimetype": "text/x-python",
   "name": "python",
   "nbconvert_exporter": "python",
   "pygments_lexer": "ipython3",
   "version": "3.9.4"
  },
  "orig_nbformat": 4
 },
 "nbformat": 4,
 "nbformat_minor": 2
}
