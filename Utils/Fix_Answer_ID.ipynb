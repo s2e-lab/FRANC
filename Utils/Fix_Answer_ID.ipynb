{
 "cells": [
  {
   "cell_type": "code",
   "execution_count": 20,
   "metadata": {},
   "outputs": [],
   "source": [
    "import pandas as pd\n",
    "import numpy as np"
   ]
  },
  {
   "cell_type": "code",
   "execution_count": 16,
   "metadata": {},
   "outputs": [
    {
     "data": {
      "text/html": [
       "<div>\n",
       "<style scoped>\n",
       "    .dataframe tbody tr th:only-of-type {\n",
       "        vertical-align: middle;\n",
       "    }\n",
       "\n",
       "    .dataframe tbody tr th {\n",
       "        vertical-align: top;\n",
       "    }\n",
       "\n",
       "    .dataframe thead th {\n",
       "        text-align: right;\n",
       "    }\n",
       "</style>\n",
       "<table border=\"1\" class=\"dataframe\">\n",
       "  <thead>\n",
       "    <tr style=\"text-align: right;\">\n",
       "      <th></th>\n",
       "      <th>question_id</th>\n",
       "      <th>accepted_answer_id</th>\n",
       "    </tr>\n",
       "  </thead>\n",
       "  <tbody>\n",
       "    <tr>\n",
       "      <th>count</th>\n",
       "      <td>2.670000e+02</td>\n",
       "      <td>4.800000e+01</td>\n",
       "    </tr>\n",
       "    <tr>\n",
       "      <th>mean</th>\n",
       "      <td>7.602208e+07</td>\n",
       "      <td>7.602535e+07</td>\n",
       "    </tr>\n",
       "    <tr>\n",
       "      <th>std</th>\n",
       "      <td>1.290137e+03</td>\n",
       "      <td>9.291566e+03</td>\n",
       "    </tr>\n",
       "    <tr>\n",
       "      <th>min</th>\n",
       "      <td>7.601985e+07</td>\n",
       "      <td>7.601998e+07</td>\n",
       "    </tr>\n",
       "    <tr>\n",
       "      <th>25%</th>\n",
       "      <td>7.602091e+07</td>\n",
       "      <td>7.602237e+07</td>\n",
       "    </tr>\n",
       "    <tr>\n",
       "      <th>50%</th>\n",
       "      <td>7.602223e+07</td>\n",
       "      <td>7.602337e+07</td>\n",
       "    </tr>\n",
       "    <tr>\n",
       "      <th>75%</th>\n",
       "      <td>7.602318e+07</td>\n",
       "      <td>7.602425e+07</td>\n",
       "    </tr>\n",
       "    <tr>\n",
       "      <th>max</th>\n",
       "      <td>7.602422e+07</td>\n",
       "      <td>7.608096e+07</td>\n",
       "    </tr>\n",
       "  </tbody>\n",
       "</table>\n",
       "</div>"
      ],
      "text/plain": [
       "        question_id  accepted_answer_id\n",
       "count  2.670000e+02        4.800000e+01\n",
       "mean   7.602208e+07        7.602535e+07\n",
       "std    1.290137e+03        9.291566e+03\n",
       "min    7.601985e+07        7.601998e+07\n",
       "25%    7.602091e+07        7.602237e+07\n",
       "50%    7.602223e+07        7.602337e+07\n",
       "75%    7.602318e+07        7.602425e+07\n",
       "max    7.602422e+07        7.608096e+07"
      ]
     },
     "execution_count": 16,
     "metadata": {},
     "output_type": "execute_result"
    }
   ],
   "source": [
    "df = pd.read_csv('../DatasetCollection/newData.csv', names=[\"question_id\", \"title\", \"body\", \"link\", \"is_answered\", \"accepted_answer_id\"])\n",
    "df.describe()"
   ]
  },
  {
   "cell_type": "code",
   "execution_count": 17,
   "metadata": {},
   "outputs": [
    {
     "data": {
      "text/plain": [
       "300"
      ]
     },
     "execution_count": 17,
     "metadata": {},
     "output_type": "execute_result"
    }
   ],
   "source": [
    "question_ids = []\n",
    "with open('../DatasetCollection/newID.txt', 'r') as f:\n",
    "    question_ids = f.readlines()\n",
    "    question_ids = [x.strip() for x in question_ids]\n",
    "len(question_ids)"
   ]
  },
  {
   "cell_type": "code",
   "execution_count": 35,
   "metadata": {},
   "outputs": [
    {
     "name": "stdout",
     "output_type": "stream",
     "text": [
      "76024214.0\n",
      "76027040.0\n",
      "76023955.0\n",
      "76023972.0\n",
      "76024374.0\n",
      "76023845.0\n",
      "76080956.0\n",
      "76023725.0\n",
      "76023659.0\n",
      "76025443.0\n",
      "76023713.0\n",
      "76024517.0\n",
      "76023293.0\n",
      "76023647.0\n",
      "76044703.0\n",
      "76022873.0\n",
      "76022878.0\n",
      "76022888.0\n",
      "76022806.0\n",
      "76022698.0\n",
      "76022589.0\n",
      "76023498.0\n",
      "76022414.0\n",
      "76022387.0\n",
      "76022447.0\n",
      "76022385.0\n",
      "76022342.0\n",
      "76023450.0\n",
      "76023450.0\n",
      "76024867.0\n",
      "76022902.0\n",
      "76022271.0\n",
      "76021890.0\n",
      "76023828.0\n",
      "76021642.0\n",
      "76021694.0\n",
      "76033903.0\n",
      "76024596.0\n",
      "76021072.0\n",
      "76028926.0\n",
      "76021330.0\n",
      "76027144.0\n",
      "76020716.0\n",
      "76020699.0\n",
      "76020625.0\n",
      "76038355.0\n",
      "76020308.0\n",
      "76019980.0\n"
     ]
    }
   ],
   "source": [
    "# search for the question id in the dataframe and get the index\n",
    "# then use the index to get the accepted answer id\n",
    "answerID = []\n",
    "for question_id in question_ids:\n",
    "    data = df[df['question_id'] == int(question_id)]\n",
    "    if not data.empty:\n",
    "        if not np.isnan(data['accepted_answer_id'].values[0]):\n",
    "            print(data['accepted_answer_id'].values[0])\n",
    "            answerID.append(int(data['accepted_answer_id'].values[0]))\n",
    "        else:\n",
    "            answerID.append('')\n",
    "    else:\n",
    "        answerID.append('')"
   ]
  },
  {
   "cell_type": "code",
   "execution_count": 29,
   "metadata": {},
   "outputs": [],
   "source": [
    "with open('../DatasetCollection/newAnswerID.txt', 'w') as f:\n",
    "    for answer_id in answerID:\n",
    "        f.write(str(answer_id) + '\\n')"
   ]
  }
 ],
 "metadata": {
  "kernelspec": {
   "display_name": "Python 3",
   "language": "python",
   "name": "python3"
  },
  "language_info": {
   "codemirror_mode": {
    "name": "ipython",
    "version": 3
   },
   "file_extension": ".py",
   "mimetype": "text/x-python",
   "name": "python",
   "nbconvert_exporter": "python",
   "pygments_lexer": "ipython3",
   "version": "3.9.4"
  },
  "orig_nbformat": 4
 },
 "nbformat": 4,
 "nbformat_minor": 2
}
