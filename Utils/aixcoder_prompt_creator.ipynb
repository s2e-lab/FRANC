{
 "cells": [
  {
   "cell_type": "code",
   "execution_count": 5,
   "metadata": {},
   "outputs": [],
   "source": [
    "import json"
   ]
  },
  {
   "cell_type": "code",
   "execution_count": 6,
   "metadata": {},
   "outputs": [
    {
     "data": {
      "text/plain": [
       "175"
      ]
     },
     "execution_count": 6,
     "metadata": {},
     "output_type": "execute_result"
    }
   ],
   "source": [
    "prompts = []\n",
    "with open(\"../Benchmarks/aiXcoder.jsonl\", \"r\") as f:\n",
    "    for line in f:\n",
    "        prompts.append(json.loads(line))\n",
    "len(prompts)"
   ]
  },
  {
   "cell_type": "code",
   "execution_count": 7,
   "metadata": {},
   "outputs": [],
   "source": [
    "def fix_prompt_aiXCoder(prompt):\n",
    "    new_prompt = \"import java.io.*;\\nimport java.lang.*;\\nimport java.util.*;\\nimport java.math.*;\\n\\n\\nclass ID\"\n",
    "    new_prompt += str(prompt[\"task_id\"])+\"{\\n\\t/**\\n\\t* \"+prompt[\"raw_nl\"]+\"\\n\\t*/\\n\"\n",
    "    new_prompt += \"\\t\"+prompt[\"signature\"]+\"{\\n\\t\\t\"\n",
    "    return new_prompt"
   ]
  },
  {
   "cell_type": "code",
   "execution_count": 8,
   "metadata": {},
   "outputs": [],
   "source": [
    "new_prompts = []\n",
    "for prompt in prompts:\n",
    "    new_prompt = prompt.copy()\n",
    "    new_prompt[\"prompt\"] = fix_prompt_aiXCoder(prompt)\n",
    "    new_prompts.append(new_prompt)\n",
    "\n",
    "with open(\"../Benchmarks/aiXcoder_prompt.jsonl\", \"w\") as f:\n",
    "    for prompt in new_prompts:\n",
    "        f.write(json.dumps(prompt)+\"\\n\")"
   ]
  },
  {
   "cell_type": "code",
   "execution_count": 17,
   "metadata": {},
   "outputs": [
    {
     "data": {
      "text/plain": [
       "230"
      ]
     },
     "execution_count": 17,
     "metadata": {},
     "output_type": "execute_result"
    }
   ],
   "source": [
    "prompts = []\n",
    "with open(\"../Benchmarks/CoderEval4Java.json\", \"r\") as f:\n",
    "    prompts = json.load(f)[\"RECORDS\"]\n",
    "len(prompts)"
   ]
  },
  {
   "cell_type": "code",
   "execution_count": 19,
   "metadata": {},
   "outputs": [],
   "source": [
    "def fix_prompt_coderEval_java(prompt):\n",
    "    new_prompt = \"import java.io.*;\\nimport java.lang.*;\\nimport java.util.*;\\nimport java.math.*;\\n\\n\\nclass \"\n",
    "    new_prompt += prompt[\"class_name\"]+\"{\\n\\t\"+prompt[\"docstring\"]\n",
    "    new_prompt += \"\\t\"+prompt[\"code\"].split(\"\\n\")[0]+\"\\n\\t\\t\"\n",
    "    return new_prompt"
   ]
  },
  {
   "cell_type": "code",
   "execution_count": 21,
   "metadata": {},
   "outputs": [],
   "source": [
    "new_prompts = []\n",
    "for prompt in prompts:\n",
    "    new_prompt = {}\n",
    "    new_prompt[\"task_id\"] = prompt[\"_id\"]\n",
    "    new_prompt[\"prompt\"] = fix_prompt_coderEval_java(prompt)\n",
    "    new_prompts.append(new_prompt)\n",
    "\n",
    "with open(\"../Benchmarks/CoderEval4Java_prompt.jsonl\", \"w\") as f:\n",
    "    for prompt in new_prompts:\n",
    "        f.write(json.dumps(prompt)+\"\\n\")"
   ]
  },
  {
   "cell_type": "code",
   "execution_count": 22,
   "metadata": {},
   "outputs": [
    {
     "data": {
      "text/plain": [
       "230"
      ]
     },
     "execution_count": 22,
     "metadata": {},
     "output_type": "execute_result"
    }
   ],
   "source": [
    "prompts = []\n",
    "with open(\"../Benchmarks/CoderEval4Python.json\", \"r\") as f:\n",
    "    prompts = json.load(f)[\"RECORDS\"]\n",
    "len(prompts)"
   ]
  },
  {
   "cell_type": "code",
   "execution_count": 27,
   "metadata": {},
   "outputs": [],
   "source": [
    "def fix_prompt_coderEval_python(prompt):\n",
    "    method_signature = prompt[\"code\"].split(\"\\n\")[0].strip()\n",
    "    if method_signature.startswith(\"@\"):\n",
    "        method_signature = prompt[\"code\"].split(\"\\n\")[1].strip()\n",
    "        \n",
    "    new_prompt = method_signature+\"\\t\\\"\\\"\\\"\\n\\t\"\n",
    "    new_prompt += prompt[\"docstring\"]+\"\\t\\\"\\\"\\\"\\n\\t\"\n",
    "    return new_prompt"
   ]
  },
  {
   "cell_type": "code",
   "execution_count": 28,
   "metadata": {},
   "outputs": [],
   "source": [
    "new_prompts = []\n",
    "for prompt in prompts:\n",
    "    new_prompt = {}\n",
    "    new_prompt[\"task_id\"] = prompt[\"_id\"]\n",
    "    new_prompt[\"prompt\"] = fix_prompt_coderEval_python(prompt)\n",
    "    new_prompts.append(new_prompt)\n",
    "\n",
    "with open(\"../Benchmarks/CoderEval4Python_prompt.jsonl\", \"w\") as f:\n",
    "    for prompt in new_prompts:\n",
    "        f.write(json.dumps(prompt)+\"\\n\")"
   ]
  }
 ],
 "metadata": {
  "kernelspec": {
   "display_name": "Python 3",
   "language": "python",
   "name": "python3"
  },
  "language_info": {
   "codemirror_mode": {
    "name": "ipython",
    "version": 3
   },
   "file_extension": ".py",
   "mimetype": "text/x-python",
   "name": "python",
   "nbconvert_exporter": "python",
   "pygments_lexer": "ipython3",
   "version": "3.9.4"
  },
  "orig_nbformat": 4
 },
 "nbformat": 4,
 "nbformat_minor": 2
}
