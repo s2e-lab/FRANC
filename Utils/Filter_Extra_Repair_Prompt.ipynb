{
 "cells": [
  {
   "cell_type": "code",
   "execution_count": 50,
   "metadata": {},
   "outputs": [],
   "source": [
    "import json\n",
    "import os"
   ]
  },
  {
   "cell_type": "code",
   "execution_count": 51,
   "metadata": {},
   "outputs": [],
   "source": [
    "benchmark_0 = '../Repair_Quality_Analyzer/Repair_Quality_Filtered_Suggestions'\n",
    "benchmark_1 = '../Repair_Quality_Analyzer/Repair_Quality_Filtered_Suggestions_1'\n",
    "benchmark_2 = '../Repair_Quality_Analyzer/Repair_Quality_Filtered_Suggestions_2'"
   ]
  },
  {
   "cell_type": "code",
   "execution_count": 52,
   "metadata": {},
   "outputs": [
    {
     "data": {
      "text/plain": [
       "72"
      ]
     },
     "execution_count": 52,
     "metadata": {},
     "output_type": "execute_result"
    }
   ],
   "source": [
    "files = os.listdir(benchmark_2)\n",
    "len(files)"
   ]
  },
  {
   "cell_type": "code",
   "execution_count": 53,
   "metadata": {},
   "outputs": [
    {
     "name": "stdout",
     "output_type": "stream",
     "text": [
      "SecurityEval_python_codeparrot-small_128_10.jsonl\n",
      "SOEvalJava_PolyCoder-0.4B_128_10.jsonl\n",
      "CoderEval4Python_prompt_codeparrot_128_10.jsonl\n",
      "SOEvalPython_codegen-350M-mono_128_10.jsonl\n",
      "HumanEval_java_incoder-1B_128_10.jsonl\n",
      "SecurityEval_python_codegen-2B-multi_128_10.jsonl\n",
      "HumanEval_python_PolyCoder-2.7B_128_10.jsonl\n",
      "SOEvalJava_codegen-2B-multi_128_10.jsonl\n",
      "CoderEval4Python_prompt_codegen-350M-multi_128_10.jsonl\n",
      "SecurityEval_python_codegen-2B-mono_128_10.jsonl\n",
      "CoderEval4Java_prompt_PolyCoder-0.4B_128_10.jsonl\n",
      "HumanEval_python_codegen-350M-multi_128_10.jsonl\n",
      "HumanEval_python_codegen-350M-mono_128_10.jsonl\n",
      "aiXcoder_prompt_incoder-1B_128_10.jsonl\n",
      "CoderEval4Python_prompt_gpt3.5_512_10.jsonl\n",
      "HumanEval_java_PolyCoder-2.7B_128_10.jsonl\n",
      "HumanEval_python_gpt3.5_512_10.jsonl\n",
      "aiXcoder_prompt_PolyCoder-0.4B_128_10.jsonl\n",
      "SOEvalPython_codeparrot-small_128_10.jsonl\n",
      "HumanEval_java_codegen-2B-multi_128_10.jsonl\n",
      "SOEvalPython_PolyCoder-2.7B_128_10.jsonl\n",
      "SecurityEval_python_PolyCoder-2.7B_128_10.jsonl\n",
      "SOEvalPython_codegen-2B-multi_128_10.jsonl\n",
      "SOEvalJava_codegen-350M-multi_128_10.jsonl\n",
      "SOEvalJava_PolyCoder-160M_128_10.jsonl\n",
      "HumanEval_python_codeparrot_128_10.jsonl\n",
      "SOEvalPython_codeparrot_128_10.jsonl\n",
      "SOEvalPython_gpt3.5_512_10.jsonl\n",
      "SecurityEval_python_incoder-1B_128_10.jsonl\n",
      "CoderEval4Python_prompt_PolyCoder-2.7B_128_10.jsonl\n",
      "aiXcoder_prompt_gpt3.5_512_10.jsonl\n",
      "aiXcoder_prompt_PolyCoder-160M_128_10.jsonl\n",
      "CoderEval4Java_prompt_PolyCoder-160M_128_10.jsonl\n",
      "HumanEval_java_PolyCoder-160M_128_10.jsonl\n",
      "SOEvalJava_gpt3.5_512_10.jsonl\n",
      "SecurityEval_python_gpt3.5_512_10.jsonl\n",
      "CoderEval4Python_prompt_codegen-2B-mono_128_10.jsonl\n",
      "CoderEval4Python_prompt_codegen-350M-mono_128_10.jsonl\n",
      "CoderEval4Python_prompt_PolyCoder-0.4B_128_10.jsonl\n",
      "HumanEval_python_codegen-2B-mono_128_10.jsonl\n",
      "SecurityEval_python_PolyCoder-0.4B_128_10.jsonl\n",
      "SOEvalPython_PolyCoder-0.4B_128_10.jsonl\n",
      "CoderEval4Python_prompt_incoder-1B_128_10.jsonl\n",
      "HumanEval_python_PolyCoder-160M_128_10.jsonl\n",
      "SecurityEval_python_codegen-350M-mono_128_10.jsonl\n",
      "aiXcoder_prompt_PolyCoder-2.7B_128_10.jsonl\n",
      "CoderEval4Python_prompt_codegen-2B-multi_128_10.jsonl\n",
      "CoderEval4Python_prompt_PolyCoder-160M_128_10.jsonl\n",
      "SecurityEval_python_codegen-350M-multi_128_10.jsonl\n",
      "HumanEval_java_PolyCoder-0.4B_128_10.jsonl\n",
      "HumanEval_java_gpt3.5_512_10.jsonl\n",
      "SOEvalJava_incoder-1B_128_10.jsonl\n",
      "CoderEval4Java_prompt_gpt3.5_512_10.jsonl\n",
      "CoderEval4Java_prompt_PolyCoder-2.7B_128_10.jsonl\n",
      "CoderEval4Python_prompt_codeparrot-small_128_10.jsonl\n",
      "SOEvalPython_codegen-2B-mono_128_10.jsonl\n",
      "SOEvalPython_codegen-350M-multi_128_10.jsonl\n",
      "SOEvalPython_PolyCoder-160M_128_10.jsonl\n",
      "HumanEval_python_codegen-2B-multi_128_10.jsonl\n",
      "CoderEval4Java_prompt_incoder-1B_128_10.jsonl\n",
      "aiXcoder_prompt_codegen-2B-multi_128_10.jsonl\n",
      "HumanEval_python_incoder-1B_128_10.jsonl\n",
      "CoderEval4Java_prompt_codegen-2B-multi_128_10.jsonl\n",
      "SecurityEval_python_codeparrot_128_10.jsonl\n",
      "aiXcoder_prompt_codegen-350M-multi_128_10.jsonl\n",
      "HumanEval_python_PolyCoder-0.4B_128_10.jsonl\n",
      "HumanEval_java_codegen-350M-multi_128_10.jsonl\n",
      "SOEvalPython_incoder-1B_128_10.jsonl\n",
      "SOEvalJava_PolyCoder-2.7B_128_10.jsonl\n",
      "CoderEval4Java_prompt_codegen-350M-multi_128_10.jsonl\n",
      "HumanEval_python_codeparrot-small_128_10.jsonl\n",
      "SecurityEval_python_PolyCoder-160M_128_10.jsonl\n"
     ]
    }
   ],
   "source": [
    "for file in files:\n",
    "    with open(os.path.join(benchmark_2, file)) as f:\n",
    "        print(file)\n",
    "        data_2 = [json.loads(line) for line in f]\n",
    "        # print(len(data_2))\n",
    "\n",
    "        with open(os.path.join(benchmark_0, file)) as f:\n",
    "            data_0 = [json.loads(line) for line in f]\n",
    "            # print(len(data_0))\n",
    "        \n",
    "        with open(os.path.join(benchmark_1, file)) as f:\n",
    "            data_1 = [json.loads(line) for line in f]\n",
    "            # print(len(data_1))\n",
    "        assert len(data_0) == len(data_1)\n",
    "\n",
    "        new_data_0 = []\n",
    "        for item in data_0:\n",
    "            found = False\n",
    "            for item_2 in data_2:\n",
    "                if item['task_id'] == item_2['task_id']:\n",
    "                    found = True\n",
    "                    break\n",
    "            if found:\n",
    "                new_data_0.append(item)\n",
    "\n",
    "                \n",
    "\n",
    "        # print(len(new_data_0))\n",
    "        \n",
    "        data_0 = new_data_0\n",
    "\n",
    "        new_data_1 = []\n",
    "        for item in data_1:\n",
    "            found = False\n",
    "            for item_2 in data_2:\n",
    "                if item['task_id'] == item_2['task_id']:\n",
    "                    found = True\n",
    "                    break\n",
    "            if found:\n",
    "                new_data_1.append(item)\n",
    "        \n",
    "        # print(len(new_data_1))\n",
    "        data_1 = new_data_1\n",
    "\n",
    "        assert len(data_0) == len(data_1) == len(data_2)\n",
    "\n",
    "        with open(os.path.join(benchmark_0, file), 'w') as f:\n",
    "            for item in data_0:\n",
    "                f.write(json.dumps(item) + '\\n')\n",
    "        \n",
    "        with open(os.path.join(benchmark_1, file), 'w') as f:\n",
    "            for item in data_1:\n",
    "                f.write(json.dumps(item) + '\\n')\n",
    "\n",
    "        "
   ]
  },
  {
   "cell_type": "code",
   "execution_count": null,
   "metadata": {},
   "outputs": [],
   "source": []
  }
 ],
 "metadata": {
  "kernelspec": {
   "display_name": "Python 3",
   "language": "python",
   "name": "python3"
  },
  "language_info": {
   "codemirror_mode": {
    "name": "ipython",
    "version": 3
   },
   "file_extension": ".py",
   "mimetype": "text/x-python",
   "name": "python",
   "nbconvert_exporter": "python",
   "pygments_lexer": "ipython3",
   "version": "3.9.4"
  },
  "orig_nbformat": 4
 },
 "nbformat": 4,
 "nbformat_minor": 2
}
